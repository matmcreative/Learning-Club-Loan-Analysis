{
 "cells": [
  {
   "cell_type": "markdown",
   "id": "1482df6d",
   "metadata": {},
   "source": [
    "## Introduction to Lending Club Loan Data Analysis\n",
    "This project focuses on analyzing historical loan data from the Lending Club platform, spanning from 2007 to 2015. Lending Club connects borrowers with investors through an online marketplace, where borrowers receive loans and investors can purchase notes backed by payments made on loans. The objective of this analysis is to leverage machine learning techniques to predict the likelihood of loan defaults based on various borrower and loan characteristics.\n",
    "\n",
    "Utilizing a dataset that encompasses a wide array of information, including borrower credit history, loan details, and repayment status, we aim to identify patterns and insights that can inform investment decisions and risk management strategies. Through comprehensive data preprocessing, exploratory data analysis (EDA), and the application of deep learning models, this project seeks to not only predict loan defaults with high accuracy but also uncover the underlying factors contributing to borrower default rates.\n",
    "\n",
    "By harnessing the capabilities of Python, pandas for data manipulation, matplotlib and seaborn for visualization, and Keras with TensorFlow as the backend for modeling, we will navigate through the data analysis process. This journey will take us from initial data loading and cleaning to sophisticated model building and evaluation, with the ultimate goal of enhancing the predictive capabilities within the domain of peer-to-peer lending."
   ]
  },
  {
   "cell_type": "markdown",
   "id": "18f5d92c",
   "metadata": {},
   "source": [
    "## Data Loading and Initial Exploration\n",
    "In this section, we begin our analysis by importing necessary libraries and loading our dataset. The dataset in question contains comprehensive loan data from the Lending Club platform, which includes both borrower information and loan performance metrics. Our primary library for handling data is pandas, a powerful tool for data manipulation and analysis in Python."
   ]
  },
  {
   "cell_type": "code",
   "execution_count": 9,
   "id": "a453db27-27cc-4a92-9fc6-be2f04bb9c76",
   "metadata": {},
   "outputs": [],
   "source": [
    "import pandas as pd\n",
    "\n",
    "# Load the loan data CSV file\n",
    "loan_data_path = 'loan_data.csv'\n",
    "loan_data = pd.read_csv(loan_data_path)"
   ]
  },
  {
   "cell_type": "markdown",
   "id": "dccf198d",
   "metadata": {},
   "source": [
    "After loading the data, it's crucial to get a preliminary view of its structure to understand the types of information available and to start thinking about potential preprocessing steps. The .head() method allows us to peek at the first few rows of our DataFrame:"
   ]
  },
  {
   "cell_type": "code",
   "execution_count": 10,
   "id": "103f30db",
   "metadata": {},
   "outputs": [
    {
     "data": {
      "text/html": [
       "<div>\n",
       "<style scoped>\n",
       "    .dataframe tbody tr th:only-of-type {\n",
       "        vertical-align: middle;\n",
       "    }\n",
       "\n",
       "    .dataframe tbody tr th {\n",
       "        vertical-align: top;\n",
       "    }\n",
       "\n",
       "    .dataframe thead th {\n",
       "        text-align: right;\n",
       "    }\n",
       "</style>\n",
       "<table border=\"1\" class=\"dataframe\">\n",
       "  <thead>\n",
       "    <tr style=\"text-align: right;\">\n",
       "      <th></th>\n",
       "      <th>credit.policy</th>\n",
       "      <th>purpose</th>\n",
       "      <th>int.rate</th>\n",
       "      <th>installment</th>\n",
       "      <th>log.annual.inc</th>\n",
       "      <th>dti</th>\n",
       "      <th>fico</th>\n",
       "      <th>days.with.cr.line</th>\n",
       "      <th>revol.bal</th>\n",
       "      <th>revol.util</th>\n",
       "      <th>inq.last.6mths</th>\n",
       "      <th>delinq.2yrs</th>\n",
       "      <th>pub.rec</th>\n",
       "      <th>not.fully.paid</th>\n",
       "    </tr>\n",
       "  </thead>\n",
       "  <tbody>\n",
       "    <tr>\n",
       "      <th>0</th>\n",
       "      <td>1</td>\n",
       "      <td>debt_consolidation</td>\n",
       "      <td>0.1189</td>\n",
       "      <td>829.10</td>\n",
       "      <td>11.350407</td>\n",
       "      <td>19.48</td>\n",
       "      <td>737</td>\n",
       "      <td>5639.958333</td>\n",
       "      <td>28854</td>\n",
       "      <td>52.1</td>\n",
       "      <td>0</td>\n",
       "      <td>0</td>\n",
       "      <td>0</td>\n",
       "      <td>0</td>\n",
       "    </tr>\n",
       "    <tr>\n",
       "      <th>1</th>\n",
       "      <td>1</td>\n",
       "      <td>credit_card</td>\n",
       "      <td>0.1071</td>\n",
       "      <td>228.22</td>\n",
       "      <td>11.082143</td>\n",
       "      <td>14.29</td>\n",
       "      <td>707</td>\n",
       "      <td>2760.000000</td>\n",
       "      <td>33623</td>\n",
       "      <td>76.7</td>\n",
       "      <td>0</td>\n",
       "      <td>0</td>\n",
       "      <td>0</td>\n",
       "      <td>0</td>\n",
       "    </tr>\n",
       "    <tr>\n",
       "      <th>2</th>\n",
       "      <td>1</td>\n",
       "      <td>debt_consolidation</td>\n",
       "      <td>0.1357</td>\n",
       "      <td>366.86</td>\n",
       "      <td>10.373491</td>\n",
       "      <td>11.63</td>\n",
       "      <td>682</td>\n",
       "      <td>4710.000000</td>\n",
       "      <td>3511</td>\n",
       "      <td>25.6</td>\n",
       "      <td>1</td>\n",
       "      <td>0</td>\n",
       "      <td>0</td>\n",
       "      <td>0</td>\n",
       "    </tr>\n",
       "    <tr>\n",
       "      <th>3</th>\n",
       "      <td>1</td>\n",
       "      <td>debt_consolidation</td>\n",
       "      <td>0.1008</td>\n",
       "      <td>162.34</td>\n",
       "      <td>11.350407</td>\n",
       "      <td>8.10</td>\n",
       "      <td>712</td>\n",
       "      <td>2699.958333</td>\n",
       "      <td>33667</td>\n",
       "      <td>73.2</td>\n",
       "      <td>1</td>\n",
       "      <td>0</td>\n",
       "      <td>0</td>\n",
       "      <td>0</td>\n",
       "    </tr>\n",
       "    <tr>\n",
       "      <th>4</th>\n",
       "      <td>1</td>\n",
       "      <td>credit_card</td>\n",
       "      <td>0.1426</td>\n",
       "      <td>102.92</td>\n",
       "      <td>11.299732</td>\n",
       "      <td>14.97</td>\n",
       "      <td>667</td>\n",
       "      <td>4066.000000</td>\n",
       "      <td>4740</td>\n",
       "      <td>39.5</td>\n",
       "      <td>0</td>\n",
       "      <td>1</td>\n",
       "      <td>0</td>\n",
       "      <td>0</td>\n",
       "    </tr>\n",
       "  </tbody>\n",
       "</table>\n",
       "</div>"
      ],
      "text/plain": [
       "   credit.policy             purpose  int.rate  installment  log.annual.inc  \\\n",
       "0              1  debt_consolidation    0.1189       829.10       11.350407   \n",
       "1              1         credit_card    0.1071       228.22       11.082143   \n",
       "2              1  debt_consolidation    0.1357       366.86       10.373491   \n",
       "3              1  debt_consolidation    0.1008       162.34       11.350407   \n",
       "4              1         credit_card    0.1426       102.92       11.299732   \n",
       "\n",
       "     dti  fico  days.with.cr.line  revol.bal  revol.util  inq.last.6mths  \\\n",
       "0  19.48   737        5639.958333      28854        52.1               0   \n",
       "1  14.29   707        2760.000000      33623        76.7               0   \n",
       "2  11.63   682        4710.000000       3511        25.6               1   \n",
       "3   8.10   712        2699.958333      33667        73.2               1   \n",
       "4  14.97   667        4066.000000       4740        39.5               0   \n",
       "\n",
       "   delinq.2yrs  pub.rec  not.fully.paid  \n",
       "0            0        0               0  \n",
       "1            0        0               0  \n",
       "2            0        0               0  \n",
       "3            0        0               0  \n",
       "4            1        0               0  "
      ]
     },
     "execution_count": 10,
     "metadata": {},
     "output_type": "execute_result"
    }
   ],
   "source": [
    "# Displaying the first few rows of the loan data to understand its structure\n",
    "loan_data.head()"
   ]
  },
  {
   "cell_type": "markdown",
   "id": "8878b7fb",
   "metadata": {},
   "source": [
    "## Statistical Summary of the Dataset\n",
    "\n",
    "The next step in our data exploration is to obtain a statistical summary of the dataset, which is crucial for understanding the numerical features in more depth. This involves utilizing the `.describe()` method on our `loan_data` DataFrame. This method provides a quick overview of the descriptive statistics for all numerical columns."
   ]
  },
  {
   "cell_type": "code",
   "execution_count": 11,
   "id": "3a331a6a-6e6d-4b21-9ee7-3f7d5419d9c1",
   "metadata": {},
   "outputs": [
    {
     "data": {
      "text/plain": [
       "<bound method NDFrame.describe of       credit.policy             purpose  int.rate  installment  \\\n",
       "0                 1  debt_consolidation    0.1189       829.10   \n",
       "1                 1         credit_card    0.1071       228.22   \n",
       "2                 1  debt_consolidation    0.1357       366.86   \n",
       "3                 1  debt_consolidation    0.1008       162.34   \n",
       "4                 1         credit_card    0.1426       102.92   \n",
       "...             ...                 ...       ...          ...   \n",
       "9573              0           all_other    0.1461       344.76   \n",
       "9574              0           all_other    0.1253       257.70   \n",
       "9575              0  debt_consolidation    0.1071        97.81   \n",
       "9576              0    home_improvement    0.1600       351.58   \n",
       "9577              0  debt_consolidation    0.1392       853.43   \n",
       "\n",
       "      log.annual.inc    dti  fico  days.with.cr.line  revol.bal  revol.util  \\\n",
       "0          11.350407  19.48   737        5639.958333      28854        52.1   \n",
       "1          11.082143  14.29   707        2760.000000      33623        76.7   \n",
       "2          10.373491  11.63   682        4710.000000       3511        25.6   \n",
       "3          11.350407   8.10   712        2699.958333      33667        73.2   \n",
       "4          11.299732  14.97   667        4066.000000       4740        39.5   \n",
       "...              ...    ...   ...                ...        ...         ...   \n",
       "9573       12.180755  10.39   672       10474.000000     215372        82.1   \n",
       "9574       11.141862   0.21   722        4380.000000        184         1.1   \n",
       "9575       10.596635  13.09   687        3450.041667      10036        82.9   \n",
       "9576       10.819778  19.18   692        1800.000000          0         3.2   \n",
       "9577       11.264464  16.28   732        4740.000000      37879        57.0   \n",
       "\n",
       "      inq.last.6mths  delinq.2yrs  pub.rec  not.fully.paid  \n",
       "0                  0            0        0               0  \n",
       "1                  0            0        0               0  \n",
       "2                  1            0        0               0  \n",
       "3                  1            0        0               0  \n",
       "4                  0            1        0               0  \n",
       "...              ...          ...      ...             ...  \n",
       "9573               2            0        0               1  \n",
       "9574               5            0        0               1  \n",
       "9575               8            0        0               1  \n",
       "9576               5            0        0               1  \n",
       "9577               6            0        0               1  \n",
       "\n",
       "[9578 rows x 14 columns]>"
      ]
     },
     "execution_count": 11,
     "metadata": {},
     "output_type": "execute_result"
    }
   ],
   "source": [
    "loan_data.describe"
   ]
  },
  {
   "cell_type": "markdown",
   "id": "6a99348b",
   "metadata": {},
   "source": [
    "## One-Hot Encoding of Categorical Variables\n",
    "\n",
    "In this section, we address the challenge of converting categorical data into a format that can be provided to ML algorithms to do a better job in prediction. The `purpose` column of our dataset, which categorizes the reason for the loan, is a prime candidate for this transformation. Since machine learning models require numerical input, categorical variables like `purpose` need to be transformed.\n",
    "\n",
    "We employ one-hot encoding to tackle this, a process that converts categorical variables into a form that could be provided to ML algorithms to improve prediction accuracy. This is achieved using the `OneHotEncoder` class from `sklearn.preprocessing`. One-hot encoding creates a binary column for each category and returns a sparse matrix or dense array (depending on the `sparse` parameter) indicating the presence of a category with `1` and `0` otherwise.\n"
   ]
  },
  {
   "cell_type": "code",
   "execution_count": 12,
   "id": "167b13ef-8714-4bf3-9e71-532bffd6b4a4",
   "metadata": {},
   "outputs": [
    {
     "name": "stderr",
     "output_type": "stream",
     "text": [
      "/voc/work/.local/lib/python3.10/site-packages/sklearn/preprocessing/_encoders.py:975: FutureWarning: `sparse` was renamed to `sparse_output` in version 1.2 and will be removed in 1.4. `sparse_output` is ignored unless you leave `sparse` to its default value.\n",
      "  warnings.warn(\n"
     ]
    }
   ],
   "source": [
    "from sklearn.preprocessing import OneHotEncoder\n",
    "\n",
    "# One-hot encoding the 'purpose' column as it's a categorical variable\n",
    "encoder = OneHotEncoder(sparse=False)\n",
    "encoded_purpose = encoder.fit_transform(loan_data[['purpose']])"
   ]
  },
  {
   "cell_type": "markdown",
   "id": "8b25336f",
   "metadata": {},
   "source": [
    "## Integrating Encoded Data with Original Dataset\n",
    "\n",
    "After successfully applying one-hot encoding to the `purpose` column, the next step involves integrating this transformed data back into our original loan dataset. This process is crucial for maintaining a comprehensive dataset that includes our newly encoded categorical variables, thereby enhancing the dataset's utility for machine learning models.\n",
    "\n",
    "### Creating a DataFrame from Encoded Data\n",
    "\n",
    "First, we construct a new DataFrame from the encoded data. This is achieved by converting the encoded array returned by `OneHotEncoder` into a pandas DataFrame. Each column in this new DataFrame represents a category from the original `purpose` column, now encoded as a separate feature for our model:"
   ]
  },
  {
   "cell_type": "code",
   "execution_count": 13,
   "id": "1b44980f-ca33-419a-92de-4c1a44797682",
   "metadata": {},
   "outputs": [],
   "source": [
    "# Creating a DataFrame from the encoded data\n",
    "encoded_purpose_df = pd.DataFrame(encoded_purpose, columns=encoder.get_feature_names_out(['purpose']))"
   ]
  },
  {
   "cell_type": "markdown",
   "id": "4387b44c",
   "metadata": {},
   "source": [
    "## Merging Encoded Data with Original Loan Data\n",
    "Next, we merge this new DataFrame with our original loan data. This step is critical to ensure that our dataset remains intact and is enhanced with the addition of the encoded categorical features."
   ]
  },
  {
   "cell_type": "code",
   "execution_count": 14,
   "id": "3081e937",
   "metadata": {},
   "outputs": [],
   "source": [
    "\n",
    "# Merging the encoded DataFrame back with the original loan data\n",
    "transformed_loan_data = loan_data.join(encoded_purpose_df)"
   ]
  },
  {
   "cell_type": "markdown",
   "id": "f63a773f",
   "metadata": {},
   "source": [
    "## Dropping Redundant Columns\n",
    "With the encoded purpose column now integrated into our dataset, the original purpose column becomes redundant. To maintain data cleanliness and efficiency, we remove this column from our dataset"
   ]
  },
  {
   "cell_type": "code",
   "execution_count": 15,
   "id": "a45e4c81",
   "metadata": {},
   "outputs": [],
   "source": [
    "\n",
    "# Dropping the original 'purpose' column as it's now redundant\n",
    "transformed_loan_data.drop('purpose', axis=1, inplace=True)"
   ]
  },
  {
   "cell_type": "markdown",
   "id": "004c8c39",
   "metadata": {},
   "source": [
    "## Previewing Transformed Data\n",
    "Finally, to verify the success of our data transformation process, we display the first few rows of our transformed dataset. This step confirms the integration of the encoded features and the removal of the redundant column"
   ]
  },
  {
   "cell_type": "code",
   "execution_count": 16,
   "id": "d06f476c",
   "metadata": {},
   "outputs": [
    {
     "data": {
      "text/html": [
       "<div>\n",
       "<style scoped>\n",
       "    .dataframe tbody tr th:only-of-type {\n",
       "        vertical-align: middle;\n",
       "    }\n",
       "\n",
       "    .dataframe tbody tr th {\n",
       "        vertical-align: top;\n",
       "    }\n",
       "\n",
       "    .dataframe thead th {\n",
       "        text-align: right;\n",
       "    }\n",
       "</style>\n",
       "<table border=\"1\" class=\"dataframe\">\n",
       "  <thead>\n",
       "    <tr style=\"text-align: right;\">\n",
       "      <th></th>\n",
       "      <th>credit.policy</th>\n",
       "      <th>int.rate</th>\n",
       "      <th>installment</th>\n",
       "      <th>log.annual.inc</th>\n",
       "      <th>dti</th>\n",
       "      <th>fico</th>\n",
       "      <th>days.with.cr.line</th>\n",
       "      <th>revol.bal</th>\n",
       "      <th>revol.util</th>\n",
       "      <th>inq.last.6mths</th>\n",
       "      <th>delinq.2yrs</th>\n",
       "      <th>pub.rec</th>\n",
       "      <th>not.fully.paid</th>\n",
       "      <th>purpose_all_other</th>\n",
       "      <th>purpose_credit_card</th>\n",
       "      <th>purpose_debt_consolidation</th>\n",
       "      <th>purpose_educational</th>\n",
       "      <th>purpose_home_improvement</th>\n",
       "      <th>purpose_major_purchase</th>\n",
       "      <th>purpose_small_business</th>\n",
       "    </tr>\n",
       "  </thead>\n",
       "  <tbody>\n",
       "    <tr>\n",
       "      <th>0</th>\n",
       "      <td>1</td>\n",
       "      <td>0.1189</td>\n",
       "      <td>829.10</td>\n",
       "      <td>11.350407</td>\n",
       "      <td>19.48</td>\n",
       "      <td>737</td>\n",
       "      <td>5639.958333</td>\n",
       "      <td>28854</td>\n",
       "      <td>52.1</td>\n",
       "      <td>0</td>\n",
       "      <td>0</td>\n",
       "      <td>0</td>\n",
       "      <td>0</td>\n",
       "      <td>0.0</td>\n",
       "      <td>0.0</td>\n",
       "      <td>1.0</td>\n",
       "      <td>0.0</td>\n",
       "      <td>0.0</td>\n",
       "      <td>0.0</td>\n",
       "      <td>0.0</td>\n",
       "    </tr>\n",
       "    <tr>\n",
       "      <th>1</th>\n",
       "      <td>1</td>\n",
       "      <td>0.1071</td>\n",
       "      <td>228.22</td>\n",
       "      <td>11.082143</td>\n",
       "      <td>14.29</td>\n",
       "      <td>707</td>\n",
       "      <td>2760.000000</td>\n",
       "      <td>33623</td>\n",
       "      <td>76.7</td>\n",
       "      <td>0</td>\n",
       "      <td>0</td>\n",
       "      <td>0</td>\n",
       "      <td>0</td>\n",
       "      <td>0.0</td>\n",
       "      <td>1.0</td>\n",
       "      <td>0.0</td>\n",
       "      <td>0.0</td>\n",
       "      <td>0.0</td>\n",
       "      <td>0.0</td>\n",
       "      <td>0.0</td>\n",
       "    </tr>\n",
       "    <tr>\n",
       "      <th>2</th>\n",
       "      <td>1</td>\n",
       "      <td>0.1357</td>\n",
       "      <td>366.86</td>\n",
       "      <td>10.373491</td>\n",
       "      <td>11.63</td>\n",
       "      <td>682</td>\n",
       "      <td>4710.000000</td>\n",
       "      <td>3511</td>\n",
       "      <td>25.6</td>\n",
       "      <td>1</td>\n",
       "      <td>0</td>\n",
       "      <td>0</td>\n",
       "      <td>0</td>\n",
       "      <td>0.0</td>\n",
       "      <td>0.0</td>\n",
       "      <td>1.0</td>\n",
       "      <td>0.0</td>\n",
       "      <td>0.0</td>\n",
       "      <td>0.0</td>\n",
       "      <td>0.0</td>\n",
       "    </tr>\n",
       "    <tr>\n",
       "      <th>3</th>\n",
       "      <td>1</td>\n",
       "      <td>0.1008</td>\n",
       "      <td>162.34</td>\n",
       "      <td>11.350407</td>\n",
       "      <td>8.10</td>\n",
       "      <td>712</td>\n",
       "      <td>2699.958333</td>\n",
       "      <td>33667</td>\n",
       "      <td>73.2</td>\n",
       "      <td>1</td>\n",
       "      <td>0</td>\n",
       "      <td>0</td>\n",
       "      <td>0</td>\n",
       "      <td>0.0</td>\n",
       "      <td>0.0</td>\n",
       "      <td>1.0</td>\n",
       "      <td>0.0</td>\n",
       "      <td>0.0</td>\n",
       "      <td>0.0</td>\n",
       "      <td>0.0</td>\n",
       "    </tr>\n",
       "    <tr>\n",
       "      <th>4</th>\n",
       "      <td>1</td>\n",
       "      <td>0.1426</td>\n",
       "      <td>102.92</td>\n",
       "      <td>11.299732</td>\n",
       "      <td>14.97</td>\n",
       "      <td>667</td>\n",
       "      <td>4066.000000</td>\n",
       "      <td>4740</td>\n",
       "      <td>39.5</td>\n",
       "      <td>0</td>\n",
       "      <td>1</td>\n",
       "      <td>0</td>\n",
       "      <td>0</td>\n",
       "      <td>0.0</td>\n",
       "      <td>1.0</td>\n",
       "      <td>0.0</td>\n",
       "      <td>0.0</td>\n",
       "      <td>0.0</td>\n",
       "      <td>0.0</td>\n",
       "      <td>0.0</td>\n",
       "    </tr>\n",
       "  </tbody>\n",
       "</table>\n",
       "</div>"
      ],
      "text/plain": [
       "   credit.policy  int.rate  installment  log.annual.inc    dti  fico  \\\n",
       "0              1    0.1189       829.10       11.350407  19.48   737   \n",
       "1              1    0.1071       228.22       11.082143  14.29   707   \n",
       "2              1    0.1357       366.86       10.373491  11.63   682   \n",
       "3              1    0.1008       162.34       11.350407   8.10   712   \n",
       "4              1    0.1426       102.92       11.299732  14.97   667   \n",
       "\n",
       "   days.with.cr.line  revol.bal  revol.util  inq.last.6mths  delinq.2yrs  \\\n",
       "0        5639.958333      28854        52.1               0            0   \n",
       "1        2760.000000      33623        76.7               0            0   \n",
       "2        4710.000000       3511        25.6               1            0   \n",
       "3        2699.958333      33667        73.2               1            0   \n",
       "4        4066.000000       4740        39.5               0            1   \n",
       "\n",
       "   pub.rec  not.fully.paid  purpose_all_other  purpose_credit_card  \\\n",
       "0        0               0                0.0                  0.0   \n",
       "1        0               0                0.0                  1.0   \n",
       "2        0               0                0.0                  0.0   \n",
       "3        0               0                0.0                  0.0   \n",
       "4        0               0                0.0                  1.0   \n",
       "\n",
       "   purpose_debt_consolidation  purpose_educational  purpose_home_improvement  \\\n",
       "0                         1.0                  0.0                       0.0   \n",
       "1                         0.0                  0.0                       0.0   \n",
       "2                         1.0                  0.0                       0.0   \n",
       "3                         1.0                  0.0                       0.0   \n",
       "4                         0.0                  0.0                       0.0   \n",
       "\n",
       "   purpose_major_purchase  purpose_small_business  \n",
       "0                     0.0                     0.0  \n",
       "1                     0.0                     0.0  \n",
       "2                     0.0                     0.0  \n",
       "3                     0.0                     0.0  \n",
       "4                     0.0                     0.0  "
      ]
     },
     "execution_count": 16,
     "metadata": {},
     "output_type": "execute_result"
    }
   ],
   "source": [
    "# Displaying the first few rows of the transformed data\n",
    "transformed_loan_data.head()"
   ]
  },
  {
   "cell_type": "markdown",
   "id": "1894c016",
   "metadata": {},
   "source": [
    "## Saving Transformed Dataset\n",
    "\n",
    "After completing the data transformation and encoding processes, it's crucial to save our progress. This not only allows for easy sharing and further analysis but also serves as a checkpoint in our data processing pipeline. To achieve this, we export the transformed loan data to a new CSV file. This ensures that our modifications, including the integration of encoded features and removal of redundant columns, are preserved for future use or analysis.\n",
    "\n",
    "The following code snippet demonstrates how to save the transformed dataset to a CSV file, ensuring that the index is not included in the file, for a cleaner dataset and then view the path of the newly saved csv file."
   ]
  },
  {
   "cell_type": "code",
   "execution_count": 17,
   "id": "ebe4fa40-745d-4887-b489-73c4ef61a3ca",
   "metadata": {},
   "outputs": [
    {
     "data": {
      "text/plain": [
       "'transformed_loan_data.csv'"
      ]
     },
     "execution_count": 17,
     "metadata": {},
     "output_type": "execute_result"
    }
   ],
   "source": [
    "# Saving the transformed data to a new CSV file\n",
    "transformed_loan_data_path = 'transformed_loan_data.csv'\n",
    "transformed_loan_data.to_csv(transformed_loan_data_path, index=False)\n",
    "\n",
    "transformed_loan_data_path"
   ]
  },
  {
   "cell_type": "markdown",
   "id": "80781822",
   "metadata": {},
   "source": [
    "## Visualizing Descriptive Statistics\n",
    "\n",
    "To further our understanding of the transformed dataset, we turn to descriptive statistics, which offer insights into the central tendency, dispersion, and shape of a dataset's distribution. However, beyond numerical summaries, visualizations play a crucial role in data analysis by providing a more intuitive grasp of the dataset's characteristics. \n",
    "\n",
    "For this purpose, we employ two powerful Python libraries:\n",
    "\n",
    "- `matplotlib`: A comprehensive library for creating static, animated, and interactive visualizations in Python.\n",
    "- `seaborn`: Based on matplotlib, seaborn provides a high-level interface for drawing attractive and informative statistical graphics.\n",
    "\n",
    "The following code snippet calculates the descriptive statistics for our transformed loan data, setting the stage for subsequent visualization."
   ]
  },
  {
   "cell_type": "code",
   "execution_count": 18,
   "id": "4511aef2-2979-4d38-8cc5-2e6dda0f3347",
   "metadata": {},
   "outputs": [],
   "source": [
    "import matplotlib.pyplot as plt\n",
    "import seaborn as sns\n",
    "\n",
    "# Descriptive Statistics\n",
    "descriptive_stats = transformed_loan_data.describe()"
   ]
  },
  {
   "cell_type": "markdown",
   "id": "4399f16d",
   "metadata": {},
   "source": [
    "## Visualizing the Distribution of Key Numerical Features\n",
    "\n",
    "Understanding the distribution of various numerical features within our dataset is a fundamental aspect of exploratory data analysis (EDA). It allows us to grasp the spread, skewness, and general trend of the data points for each feature, which is invaluable for identifying patterns, outliers, and potential biases in our dataset.\n",
    "\n",
    "To visualize these distributions, we utilize histograms for each of the key numerical features. Histograms are powerful graphical representations that summarize data by grouping values into bins and displaying the frequency of observations within each bin. This method provides a clear visualization of the distribution's shape, central tendency, and variability.\n",
    "\n",
    "The key numerical features we focus on include:\n",
    "- Interest Rate (`int.rate`)\n",
    "- Installment amount (`installment`)\n",
    "- Log of Annual Income (`log.annual.inc`)\n",
    "- Debt-to-Income Ratio (`dti`)\n",
    "- FICO credit score (`fico`)\n",
    "- Days with Credit Line (`days.with.cr.line`)\n",
    "\n",
    "For each feature, we generate a histogram enhanced with a Kernel Density Estimate (KDE) to visualize the probability density of the data. This combination offers a more nuanced view of the distribution, highlighting the main modes, spread, and tails of each feature's distribution.\n"
   ]
  },
  {
   "cell_type": "code",
   "execution_count": 19,
   "id": "8464c5de-c6b1-4b94-9e3c-6652e9ad40e9",
   "metadata": {},
   "outputs": [
    {
     "data": {
      "image/png": "[encoded data removed]",
      "text/plain": [
       "<Figure size 1080x1080 with 6 Axes>"
      ]
     },
     "metadata": {
      "needs_background": "light"
     },
     "output_type": "display_data"
    }
   ],
   "source": [
    "# Distribution of Key Numerical Features\n",
    "fig, axes = plt.subplots(3, 2, figsize=(15, 15))\n",
    "numerical_features = ['int.rate', 'installment', 'log.annual.inc', 'dti', 'fico', 'days.with.cr.line']\n",
    "for i, ax in enumerate(axes.flatten()):\n",
    "    sns.histplot(transformed_loan_data[numerical_features[i]], kde=True, ax=ax)\n",
    "    ax.set_title(numerical_features[i])\n",
    "    ax.set_xlabel('')\n",
    "plt.tight_layout()\n"
   ]
  },
  {
   "cell_type": "markdown",
   "id": "c8c68a31",
   "metadata": {},
   "source": [
    "## Correlation Analysis Among Numerical Features\n",
    "\n",
    "Correlation analysis is an essential step in the exploratory data analysis process, providing insights into the relationships between numerical features in our dataset. By understanding these relationships, we can identify features that might influence each other, which is crucial for both feature selection and for designing our predictive models.\n",
    "\n",
    "The correlation coefficient ranges from -1 to 1, where:\n",
    "- **1 indicates a perfect positive correlation:** as one variable increases, the other variable increases at a constant rate.\n",
    "- **-1 indicates a perfect negative correlation:** as one variable increases, the other decreases at a constant rate.\n",
    "- **0 indicates no correlation:** there's no linear relationship between the variables.\n",
    "\n",
    "In this analysis, we compute the Pearson correlation coefficient for each pair of numerical features in our transformed loan dataset. This coefficient measures the linear correlation between variables, giving us a comprehensive view of how features relate to one another."
   ]
  },
  {
   "cell_type": "code",
   "execution_count": 20,
   "id": "695be7ad-36a7-4745-9737-4b6a3919117b",
   "metadata": {},
   "outputs": [],
   "source": [
    "# Correlation Analysis\n",
    "correlation_matrix = transformed_loan_data.corr()"
   ]
  },
  {
   "cell_type": "markdown",
   "id": "7f3bb821",
   "metadata": {},
   "source": [
    "## Visualization of Categorical Data\n",
    "\n",
    "Categorical data visualization is essential for understanding the distribution of categorical variables within our dataset. It provides insights into the prevalence of different categories, which can be crucial for identifying trends, biases, or imbalances that might affect the performance of machine learning models.\n",
    "\n",
    "In this section, we focus on visualizing a subset of categorical features related to the purpose of the loan. These include:\n",
    "- Credit card purposes (`purpose_credit_card`)\n",
    "- Debt consolidation purposes (`purpose_debt_consolidation`)\n",
    "- Small business purposes (`purpose_small_business`)\n",
    "- Educational purposes (`purpose_educational`)\n",
    "\n",
    "For each of these features, we utilize count plots to visualize the frequency of each category. Count plots are straightforward yet powerful visual tools that display the counts of observations in each categorical bin using bars."
   ]
  },
  {
   "cell_type": "code",
   "execution_count": 21,
   "id": "dfd97b26-d137-4782-9cf9-d19f70418927",
   "metadata": {},
   "outputs": [
    {
     "data": {
      "image/png": "[encoded data removed]",
      "text/plain": [
       "<Figure size 1080x720 with 4 Axes>"
      ]
     },
     "metadata": {
      "needs_background": "light"
     },
     "output_type": "display_data"
    }
   ],
   "source": [
    "# Distribution of Categorical Data\n",
    "# Since there are multiple categorical columns, I've selected a few for visualization\n",
    "fig, axes = plt.subplots(2, 2, figsize=(15, 10))\n",
    "categorical_features = ['purpose_credit_card', 'purpose_debt_consolidation', 'purpose_small_business', 'purpose_educational']\n",
    "for i, ax in enumerate(axes.flatten()):\n",
    "    sns.countplot(x=transformed_loan_data[categorical_features[i]], ax=ax)\n",
    "    ax.set_title(categorical_features[i])\n",
    "    ax.set_xlabel('')\n",
    "plt.tight_layout()\n"
   ]
  },
  {
   "cell_type": "markdown",
   "id": "36c4fdd4",
   "metadata": {},
   "source": [
    "## Target Variable Analysis: Loan Repayment Status\n",
    "\n",
    "Understanding the distribution of our target variable is a pivotal aspect of any machine learning project. For this project, our target variable is `not.fully.paid`, which indicates whether a loan has not been fully repaid (1) or has been fully repaid (0). Analyzing the distribution of this variable is crucial for several reasons:\n",
    "- **Modeling Insight:** It helps in understanding the balance or imbalance between the classes, which can significantly influence the choice of model, evaluation metrics, and techniques to address class imbalance.\n",
    "- **Business Insight:** It provides insights into the proportion of loans that tend to not be fully repaid, offering a glimpse into the risk profile associated with lending activities.\n",
    "\n",
    "The following code snippet utilizes `matplotlib` and `seaborn` to create a count plot visualizing the frequency of each category within the `not.fully.paid` target variable."
   ]
  },
  {
   "cell_type": "code",
   "execution_count": 22,
   "id": "6c4ed69f-0cf1-4e0d-99ba-40fa99ca5cc4",
   "metadata": {},
   "outputs": [
    {
     "data": {
      "image/png": "[encoded data removed]",
      "text/plain": [
       "<Figure size 504x360 with 1 Axes>"
      ]
     },
     "metadata": {
      "needs_background": "light"
     },
     "output_type": "display_data"
    }
   ],
   "source": [
    "# Target Variable Analysis\n",
    "fig, ax = plt.subplots(figsize=(7, 5))\n",
    "sns.countplot(x=transformed_loan_data['not.fully.paid'])\n",
    "ax.set_title('Distribution of Not Fully Paid Loans')\n",
    "plt.tight_layout()\n",
    "\n",
    "plt.show()"
   ]
  },
  {
   "cell_type": "markdown",
   "id": "1eadb882",
   "metadata": {},
   "source": [
    "## Analysis of the Target Variable: Not Fully Paid Loans\n",
    "\n",
    "Understanding the distribution of our target variable is fundamental to the success of any predictive modeling project. In this case, our target variable is whether a loan has not been fully paid (`not.fully.paid`). Analyzing this variable allows us to grasp the balance or imbalance between the classes, which is crucial for selecting appropriate modeling techniques and evaluation metrics.\n",
    "\n",
    "The following visualization uses a count plot to show the distribution of loans based on their repayment status:\n",
    "- `0` indicates loans that have been fully paid.\n",
    "- `1` represents loans that have not been fully paid."
   ]
  },
  {
   "cell_type": "code",
   "execution_count": 23,
   "id": "3102bea1-51fe-4480-8e9c-0700545f67fc",
   "metadata": {},
   "outputs": [
    {
     "data": {
      "text/plain": [
       "(       credit.policy     int.rate  installment  log.annual.inc          dti  \\\n",
       " count    9578.000000  9578.000000  9578.000000     9578.000000  9578.000000   \n",
       " mean        0.804970     0.122640   319.089413       10.932117    12.606679   \n",
       " std         0.396245     0.026847   207.071301        0.614813     6.883970   \n",
       " min         0.000000     0.060000    15.670000        7.547502     0.000000   \n",
       " 25%         1.000000     0.103900   163.770000       10.558414     7.212500   \n",
       " 50%         1.000000     0.122100   268.950000       10.928884    12.665000   \n",
       " 75%         1.000000     0.140700   432.762500       11.291293    17.950000   \n",
       " max         1.000000     0.216400   940.140000       14.528354    29.960000   \n",
       " \n",
       "               fico  days.with.cr.line     revol.bal   revol.util  \\\n",
       " count  9578.000000        9578.000000  9.578000e+03  9578.000000   \n",
       " mean    710.846314        4560.767197  1.691396e+04    46.799236   \n",
       " std      37.970537        2496.930377  3.375619e+04    29.014417   \n",
       " min     612.000000         178.958333  0.000000e+00     0.000000   \n",
       " 25%     682.000000        2820.000000  3.187000e+03    22.600000   \n",
       " 50%     707.000000        4139.958333  8.596000e+03    46.300000   \n",
       " 75%     737.000000        5730.000000  1.824950e+04    70.900000   \n",
       " max     827.000000       17639.958330  1.207359e+06   119.000000   \n",
       " \n",
       "        inq.last.6mths  delinq.2yrs      pub.rec  not.fully.paid  \\\n",
       " count     9578.000000  9578.000000  9578.000000     9578.000000   \n",
       " mean         1.577469     0.163708     0.062122        0.160054   \n",
       " std          2.200245     0.546215     0.262126        0.366676   \n",
       " min          0.000000     0.000000     0.000000        0.000000   \n",
       " 25%          0.000000     0.000000     0.000000        0.000000   \n",
       " 50%          1.000000     0.000000     0.000000        0.000000   \n",
       " 75%          2.000000     0.000000     0.000000        0.000000   \n",
       " max         33.000000    13.000000     5.000000        1.000000   \n",
       " \n",
       "        purpose_all_other  purpose_credit_card  purpose_debt_consolidation  \\\n",
       " count        9578.000000          9578.000000                 9578.000000   \n",
       " mean            0.243370             0.131760                    0.413134   \n",
       " std             0.429139             0.338248                    0.492422   \n",
       " min             0.000000             0.000000                    0.000000   \n",
       " 25%             0.000000             0.000000                    0.000000   \n",
       " 50%             0.000000             0.000000                    0.000000   \n",
       " 75%             0.000000             0.000000                    1.000000   \n",
       " max             1.000000             1.000000                    1.000000   \n",
       " \n",
       "        purpose_educational  purpose_home_improvement  purpose_major_purchase  \\\n",
       " count          9578.000000               9578.000000             9578.000000   \n",
       " mean              0.035811                  0.065671                0.045625   \n",
       " std               0.185829                  0.247720                0.208682   \n",
       " min               0.000000                  0.000000                0.000000   \n",
       " 25%               0.000000                  0.000000                0.000000   \n",
       " 50%               0.000000                  0.000000                0.000000   \n",
       " 75%               0.000000                  0.000000                0.000000   \n",
       " max               1.000000                  1.000000                1.000000   \n",
       " \n",
       "        purpose_small_business  \n",
       " count             9578.000000  \n",
       " mean                 0.064627  \n",
       " std                  0.245880  \n",
       " min                  0.000000  \n",
       " 25%                  0.000000  \n",
       " 50%                  0.000000  \n",
       " 75%                  0.000000  \n",
       " max                  1.000000  ,\n",
       "                             credit.policy  int.rate  installment  \\\n",
       " credit.policy                    1.000000 -0.294089     0.058770   \n",
       " int.rate                        -0.294089  1.000000     0.276140   \n",
       " installment                      0.058770  0.276140     1.000000   \n",
       " log.annual.inc                   0.034906  0.056383     0.448102   \n",
       " dti                             -0.090901  0.220006     0.050202   \n",
       " fico                             0.348319 -0.714821     0.086039   \n",
       " days.with.cr.line                0.099026 -0.124022     0.183297   \n",
       " revol.bal                       -0.187518  0.092527     0.233625   \n",
       " revol.util                      -0.104095  0.464837     0.081356   \n",
       " inq.last.6mths                  -0.535511  0.202780    -0.010419   \n",
       " delinq.2yrs                     -0.076318  0.156079    -0.004368   \n",
       " pub.rec                         -0.054243  0.098162    -0.032760   \n",
       " not.fully.paid                  -0.158119  0.159552     0.049955   \n",
       " purpose_all_other               -0.025412 -0.124000    -0.203103   \n",
       " purpose_credit_card              0.003216 -0.042109     0.000774   \n",
       " purpose_debt_consolidation       0.020193  0.123607     0.161658   \n",
       " purpose_educational             -0.031346 -0.019618    -0.094510   \n",
       " purpose_home_improvement         0.006036 -0.050697     0.023024   \n",
       " purpose_major_purchase           0.024281 -0.068978    -0.079836   \n",
       " purpose_small_business          -0.003511  0.151247     0.145654   \n",
       " \n",
       "                             log.annual.inc       dti      fico  \\\n",
       " credit.policy                     0.034906 -0.090901  0.348319   \n",
       " int.rate                          0.056383  0.220006 -0.714821   \n",
       " installment                       0.448102  0.050202  0.086039   \n",
       " log.annual.inc                    1.000000 -0.054065  0.114576   \n",
       " dti                              -0.054065  1.000000 -0.241191   \n",
       " fico                              0.114576 -0.241191  1.000000   \n",
       " days.with.cr.line                 0.336896  0.060101  0.263880   \n",
       " revol.bal                         0.372140  0.188748 -0.015553   \n",
       " revol.util                        0.054881  0.337109 -0.541289   \n",
       " inq.last.6mths                    0.029171  0.029189 -0.185293   \n",
       " delinq.2yrs                       0.029203 -0.021792 -0.216340   \n",
       " pub.rec                           0.016506  0.006209 -0.147592   \n",
       " not.fully.paid                   -0.033439  0.037362 -0.149666   \n",
       " purpose_all_other                -0.080077 -0.125825  0.067184   \n",
       " purpose_credit_card               0.072942  0.084476 -0.012512   \n",
       " purpose_debt_consolidation       -0.026214  0.179149 -0.154132   \n",
       " purpose_educational              -0.119799 -0.035325 -0.013012   \n",
       " purpose_home_improvement          0.116375 -0.092788  0.097474   \n",
       " purpose_major_purchase           -0.031020 -0.077719  0.067129   \n",
       " purpose_small_business            0.091540 -0.069245  0.063292   \n",
       " \n",
       "                             days.with.cr.line  revol.bal  revol.util  \\\n",
       " credit.policy                        0.099026  -0.187518   -0.104095   \n",
       " int.rate                            -0.124022   0.092527    0.464837   \n",
       " installment                          0.183297   0.233625    0.081356   \n",
       " log.annual.inc                       0.336896   0.372140    0.054881   \n",
       " dti                                  0.060101   0.188748    0.337109   \n",
       " fico                                 0.263880  -0.015553   -0.541289   \n",
       " days.with.cr.line                    1.000000   0.229344   -0.024239   \n",
       " revol.bal                            0.229344   1.000000    0.203779   \n",
       " revol.util                          -0.024239   0.203779    1.000000   \n",
       " inq.last.6mths                      -0.041736   0.022394   -0.013880   \n",
       " delinq.2yrs                          0.081374  -0.033243   -0.042740   \n",
       " pub.rec                              0.071826  -0.031010    0.066717   \n",
       " not.fully.paid                      -0.029237   0.053699    0.082088   \n",
       " purpose_all_other                   -0.056574  -0.067728   -0.138535   \n",
       " purpose_credit_card                  0.046220   0.072316    0.091321   \n",
       " purpose_debt_consolidation          -0.009318   0.005785    0.211869   \n",
       " purpose_educational                 -0.042621  -0.034743   -0.053128   \n",
       " purpose_home_improvement             0.068087   0.003258   -0.114449   \n",
       " purpose_major_purchase              -0.020561  -0.062395   -0.108079   \n",
       " purpose_small_business               0.034883   0.083069   -0.060962   \n",
       " \n",
       "                             inq.last.6mths  delinq.2yrs   pub.rec  \\\n",
       " credit.policy                    -0.535511    -0.076318 -0.054243   \n",
       " int.rate                          0.202780     0.156079  0.098162   \n",
       " installment                      -0.010419    -0.004368 -0.032760   \n",
       " log.annual.inc                    0.029171     0.029203  0.016506   \n",
       " dti                               0.029189    -0.021792  0.006209   \n",
       " fico                             -0.185293    -0.216340 -0.147592   \n",
       " days.with.cr.line                -0.041736     0.081374  0.071826   \n",
       " revol.bal                         0.022394    -0.033243 -0.031010   \n",
       " revol.util                       -0.013880    -0.042740  0.066717   \n",
       " inq.last.6mths                    1.000000     0.021245  0.072673   \n",
       " delinq.2yrs                       0.021245     1.000000  0.009184   \n",
       " pub.rec                           0.072673     0.009184  1.000000   \n",
       " not.fully.paid                    0.149452     0.008881  0.048634   \n",
       " purpose_all_other                 0.017795     0.016658 -0.030451   \n",
       " purpose_credit_card              -0.033640    -0.008817  0.014842   \n",
       " purpose_debt_consolidation       -0.044240    -0.000697  0.026845   \n",
       " purpose_educational               0.024243    -0.002214 -0.013521   \n",
       " purpose_home_improvement          0.043827    -0.013098  0.004704   \n",
       " purpose_major_purchase           -0.001445     0.004085 -0.011734   \n",
       " purpose_small_business            0.042567    -0.004148 -0.005595   \n",
       " \n",
       "                             not.fully.paid  purpose_all_other  \\\n",
       " credit.policy                    -0.158119          -0.025412   \n",
       " int.rate                          0.159552          -0.124000   \n",
       " installment                       0.049955          -0.203103   \n",
       " log.annual.inc                   -0.033439          -0.080077   \n",
       " dti                               0.037362          -0.125825   \n",
       " fico                             -0.149666           0.067184   \n",
       " days.with.cr.line                -0.029237          -0.056574   \n",
       " revol.bal                         0.053699          -0.067728   \n",
       " revol.util                        0.082088          -0.138535   \n",
       " inq.last.6mths                    0.149452           0.017795   \n",
       " delinq.2yrs                       0.008881           0.016658   \n",
       " pub.rec                           0.048634          -0.030451   \n",
       " not.fully.paid                    1.000000           0.009233   \n",
       " purpose_all_other                 0.009233           1.000000   \n",
       " purpose_credit_card              -0.047136          -0.220935   \n",
       " purpose_debt_consolidation       -0.017543          -0.475848   \n",
       " purpose_educational               0.021609          -0.109300   \n",
       " purpose_home_improvement          0.007272          -0.150359   \n",
       " purpose_major_purchase           -0.028580          -0.124004   \n",
       " purpose_small_business            0.084460          -0.149076   \n",
       " \n",
       "                             purpose_credit_card  purpose_debt_consolidation  \\\n",
       " credit.policy                          0.003216                    0.020193   \n",
       " int.rate                              -0.042109                    0.123607   \n",
       " installment                            0.000774                    0.161658   \n",
       " log.annual.inc                         0.072942                   -0.026214   \n",
       " dti                                    0.084476                    0.179149   \n",
       " fico                                  -0.012512                   -0.154132   \n",
       " days.with.cr.line                      0.046220                   -0.009318   \n",
       " revol.bal                              0.072316                    0.005785   \n",
       " revol.util                             0.091321                    0.211869   \n",
       " inq.last.6mths                        -0.033640                   -0.044240   \n",
       " delinq.2yrs                           -0.008817                   -0.000697   \n",
       " pub.rec                                0.014842                    0.026845   \n",
       " not.fully.paid                        -0.047136                   -0.017543   \n",
       " purpose_all_other                     -0.220935                   -0.475848   \n",
       " purpose_credit_card                    1.000000                   -0.326850   \n",
       " purpose_debt_consolidation            -0.326850                    1.000000   \n",
       " purpose_educational                   -0.075076                   -0.161698   \n",
       " purpose_home_improvement              -0.103279                   -0.222441   \n",
       " purpose_major_purchase                -0.085176                   -0.183451   \n",
       " purpose_small_business                -0.102397                   -0.220542   \n",
       " \n",
       "                             purpose_educational  purpose_home_improvement  \\\n",
       " credit.policy                         -0.031346                  0.006036   \n",
       " int.rate                              -0.019618                 -0.050697   \n",
       " installment                           -0.094510                  0.023024   \n",
       " log.annual.inc                        -0.119799                  0.116375   \n",
       " dti                                   -0.035325                 -0.092788   \n",
       " fico                                  -0.013012                  0.097474   \n",
       " days.with.cr.line                     -0.042621                  0.068087   \n",
       " revol.bal                             -0.034743                  0.003258   \n",
       " revol.util                            -0.053128                 -0.114449   \n",
       " inq.last.6mths                         0.024243                  0.043827   \n",
       " delinq.2yrs                           -0.002214                 -0.013098   \n",
       " pub.rec                               -0.013521                  0.004704   \n",
       " not.fully.paid                         0.021609                  0.007272   \n",
       " purpose_all_other                     -0.109300                 -0.150359   \n",
       " purpose_credit_card                   -0.075076                 -0.103279   \n",
       " purpose_debt_consolidation            -0.161698                 -0.222441   \n",
       " purpose_educational                    1.000000                 -0.051094   \n",
       " purpose_home_improvement              -0.051094                  1.000000   \n",
       " purpose_major_purchase                -0.042138                 -0.057967   \n",
       " purpose_small_business                -0.050658                 -0.069687   \n",
       " \n",
       "                             purpose_major_purchase  purpose_small_business  \n",
       " credit.policy                             0.024281               -0.003511  \n",
       " int.rate                                 -0.068978                0.151247  \n",
       " installment                              -0.079836                0.145654  \n",
       " log.annual.inc                           -0.031020                0.091540  \n",
       " dti                                      -0.077719               -0.069245  \n",
       " fico                                      0.067129                0.063292  \n",
       " days.with.cr.line                        -0.020561                0.034883  \n",
       " revol.bal                                -0.062395                0.083069  \n",
       " revol.util                               -0.108079               -0.060962  \n",
       " inq.last.6mths                           -0.001445                0.042567  \n",
       " delinq.2yrs                               0.004085               -0.004148  \n",
       " pub.rec                                  -0.011734               -0.005595  \n",
       " not.fully.paid                           -0.028580                0.084460  \n",
       " purpose_all_other                        -0.124004               -0.149076  \n",
       " purpose_credit_card                      -0.085176               -0.102397  \n",
       " purpose_debt_consolidation               -0.183451               -0.220542  \n",
       " purpose_educational                      -0.042138               -0.050658  \n",
       " purpose_home_improvement                 -0.057967               -0.069687  \n",
       " purpose_major_purchase                    1.000000               -0.057472  \n",
       " purpose_small_business                   -0.057472                1.000000  )"
      ]
     },
     "execution_count": 23,
     "metadata": {},
     "output_type": "execute_result"
    }
   ],
   "source": [
    "# Returning the descriptive statistics and correlation matrix for further analysis\n",
    "descriptive_stats, correlation_matrix"
   ]
  },
  {
   "cell_type": "markdown",
   "id": "5bdcbc35",
   "metadata": {},
   "source": [
    "### Scaling Numerical Features\n",
    "\n",
    "Before modeling, it's essential to scale numerical features to ensure that our model treats all features equally. This step involves standardizing the range of continuous input variables so that each feature contributes proportionately to the final prediction. We employ `StandardScaler` for this purpose, which normalizes the features to have a mean of 0 and a standard deviation of 1."
   ]
  },
  {
   "cell_type": "code",
   "execution_count": 24,
   "id": "af56dedd",
   "metadata": {},
   "outputs": [],
   "source": [
    "from sklearn.preprocessing import StandardScaler\n",
    "\n",
    "# Initializing the StandardScaler\n",
    "scaler = StandardScaler()\n",
    "\n",
    "# List of numerical features to scale\n",
    "numerical_features = ['int.rate', 'installment', 'log.annual.inc', 'dti', 'fico', 'days.with.cr.line', 'revol.bal', 'revol.util']\n",
    "\n",
    "# Applying the scaler to the numerical features\n",
    "transformed_loan_data[numerical_features] = scaler.fit_transform(transformed_loan_data[numerical_features])"
   ]
  },
  {
   "cell_type": "markdown",
   "id": "41970621",
   "metadata": {},
   "source": [
    "### Splitting the Dataset\n",
    "\n",
    "After preparing our features, the next step is to split the dataset into a set of features (`X`) and the target variable (`y`). Furthermore, we divide the data into training and testing sets. This approach allows our model to learn from one subset of the data and then be evaluated on a separate subset, ensuring that our performance metrics reflect how the model will perform on unseen data."
   ]
  },
  {
   "cell_type": "code",
   "execution_count": 25,
   "id": "6e8bfec4",
   "metadata": {},
   "outputs": [],
   "source": [
    "from sklearn.model_selection import train_test_split\n",
    "# Splitting the dataset into features and the target variable\n",
    "X = transformed_loan_data.drop('not.fully.paid', axis=1)\n",
    "y = transformed_loan_data['not.fully.paid']\n",
    "\n",
    "# Further splitting into training and testing sets\n",
    "X_train, X_test, y_train, y_test = train_test_split(X, y, test_size=0.2, random_state=42)"
   ]
  },
  {
   "cell_type": "markdown",
   "id": "c7c04f37",
   "metadata": {},
   "source": [
    "### Handling Imbalanced Data\n",
    "\n",
    "Our dataset exhibits an imbalance in the distribution of the target variable, which can bias the model towards the majority class. To address this, we use `SMOTE` (Synthetic Minority Over-sampling Technique) to oversample the minority class in the training set, aiming to balance the class distribution and improve model performance on minority class predictions."
   ]
  },
  {
   "cell_type": "code",
   "execution_count": 26,
   "id": "1fe351e1",
   "metadata": {},
   "outputs": [],
   "source": [
    "from imblearn.over_sampling import SMOTE\n",
    "\n",
    "# Initializing SMOTE\n",
    "sm = SMOTE(random_state=42)\n",
    "\n",
    "# Applying SMOTE to the training data\n",
    "X_train, y_train = sm.fit_resample(X_train, y_train)"
   ]
  },
  {
   "cell_type": "markdown",
   "id": "ea58508a",
   "metadata": {},
   "source": [
    "### Model Building and Evaluation\n",
    "\n",
    "With our data prepared and balanced, we proceed to build and evaluate our model. We choose the `Random Forest Classifier` for its versatility and robustness in handling both linear and non-linear data. After training the model with the training set, we assess its performance on the testing set using several metrics: accuracy, classification report, and confusion matrix. These metrics provide a comprehensive view of the model's predictive capabilities and areas for improvement."
   ]
  },
  {
   "cell_type": "code",
   "execution_count": 27,
   "id": "13fcf40e-36fe-4db6-bd5f-f18ae67d1765",
   "metadata": {},
   "outputs": [
    {
     "data": {
      "text/plain": [
       "(0.8011482254697286,\n",
       " '              precision    recall  f1-score   support\\n\\n           0       0.85      0.92      0.89      1611\\n           1       0.28      0.16      0.21       305\\n\\n    accuracy                           0.80      1916\\n   macro avg       0.57      0.54      0.55      1916\\nweighted avg       0.76      0.80      0.78      1916\\n',\n",
       " array([[1485,  126],\n",
       "        [ 255,   50]]))"
      ]
     },
     "execution_count": 27,
     "metadata": {},
     "output_type": "execute_result"
    }
   ],
   "source": [
    "from sklearn.ensemble import RandomForestClassifier\n",
    "from sklearn.metrics import classification_report, confusion_matrix, accuracy_score\n",
    "\n",
    "# Building the Random Forest Classifier\n",
    "model = RandomForestClassifier(random_state=42)\n",
    "model.fit(X_train, y_train)\n",
    "\n",
    "# Predicting the test set results\n",
    "y_pred = model.predict(X_test)\n",
    "\n",
    "# Model Evaluation\n",
    "accuracy = accuracy_score(y_test, y_pred)\n",
    "report = classification_report(y_test, y_pred)\n",
    "conf_matrix = confusion_matrix(y_test, y_pred)\n",
    "\n",
    "# Displaying the evaluation metrics\n",
    "accuracy, report, conf_matrix"
   ]
  },
  {
   "cell_type": "markdown",
   "id": "c1ca7e2c",
   "metadata": {},
   "source": [
    "## Model Building with Class Weight Adjustment\n",
    "\n",
    "Addressing imbalances in the dataset is a critical challenge in machine learning, especially in classification problems where the distribution of classes can significantly impact the model's performance. One effective approach to mitigate this issue is adjusting the class weights. This method assigns a higher weight to less represented classes, encouraging the model to pay more attention to these during training.\n",
    "\n",
    "### Adjusting Class Weights\n",
    "\n",
    "For our Random Forest Classifier, we adjust the class weights to 'balanced'. This adjustment tells the model to increase the importance of minority class examples, aiming to improve model fairness and performance on imbalanced data."
   ]
  },
  {
   "cell_type": "code",
   "execution_count": 28,
   "id": "c0b54abe-934b-4ba3-9737-0829dfe3946e",
   "metadata": {},
   "outputs": [
    {
     "data": {
      "text/html": [
       "<style>#sk-container-id-1 {color: black;}#sk-container-id-1 pre{padding: 0;}#sk-container-id-1 div.sk-toggleable {background-color: white;}#sk-container-id-1 label.sk-toggleable__label {cursor: pointer;display: block;width: 100%;margin-bottom: 0;padding: 0.3em;box-sizing: border-box;text-align: center;}#sk-container-id-1 label.sk-toggleable__label-arrow:before {content: \"▸\";float: left;margin-right: 0.25em;color: #696969;}#sk-container-id-1 label.sk-toggleable__label-arrow:hover:before {color: black;}#sk-container-id-1 div.sk-estimator:hover label.sk-toggleable__label-arrow:before {color: black;}#sk-container-id-1 div.sk-toggleable__content {max-height: 0;max-width: 0;overflow: hidden;text-align: left;background-color: #f0f8ff;}#sk-container-id-1 div.sk-toggleable__content pre {margin: 0.2em;color: black;border-radius: 0.25em;background-color: #f0f8ff;}#sk-container-id-1 input.sk-toggleable__control:checked~div.sk-toggleable__content {max-height: 200px;max-width: 100%;overflow: auto;}#sk-container-id-1 input.sk-toggleable__control:checked~label.sk-toggleable__label-arrow:before {content: \"▾\";}#sk-container-id-1 div.sk-estimator input.sk-toggleable__control:checked~label.sk-toggleable__label {background-color: #d4ebff;}#sk-container-id-1 div.sk-label input.sk-toggleable__control:checked~label.sk-toggleable__label {background-color: #d4ebff;}#sk-container-id-1 input.sk-hidden--visually {border: 0;clip: rect(1px 1px 1px 1px);clip: rect(1px, 1px, 1px, 1px);height: 1px;margin: -1px;overflow: hidden;padding: 0;position: absolute;width: 1px;}#sk-container-id-1 div.sk-estimator {font-family: monospace;background-color: #f0f8ff;border: 1px dotted black;border-radius: 0.25em;box-sizing: border-box;margin-bottom: 0.5em;}#sk-container-id-1 div.sk-estimator:hover {background-color: #d4ebff;}#sk-container-id-1 div.sk-parallel-item::after {content: \"\";width: 100%;border-bottom: 1px solid gray;flex-grow: 1;}#sk-container-id-1 div.sk-label:hover label.sk-toggleable__label {background-color: #d4ebff;}#sk-container-id-1 div.sk-serial::before {content: \"\";position: absolute;border-left: 1px solid gray;box-sizing: border-box;top: 0;bottom: 0;left: 50%;z-index: 0;}#sk-container-id-1 div.sk-serial {display: flex;flex-direction: column;align-items: center;background-color: white;padding-right: 0.2em;padding-left: 0.2em;position: relative;}#sk-container-id-1 div.sk-item {position: relative;z-index: 1;}#sk-container-id-1 div.sk-parallel {display: flex;align-items: stretch;justify-content: center;background-color: white;position: relative;}#sk-container-id-1 div.sk-item::before, #sk-container-id-1 div.sk-parallel-item::before {content: \"\";position: absolute;border-left: 1px solid gray;box-sizing: border-box;top: 0;bottom: 0;left: 50%;z-index: -1;}#sk-container-id-1 div.sk-parallel-item {display: flex;flex-direction: column;z-index: 1;position: relative;background-color: white;}#sk-container-id-1 div.sk-parallel-item:first-child::after {align-self: flex-end;width: 50%;}#sk-container-id-1 div.sk-parallel-item:last-child::after {align-self: flex-start;width: 50%;}#sk-container-id-1 div.sk-parallel-item:only-child::after {width: 0;}#sk-container-id-1 div.sk-dashed-wrapped {border: 1px dashed gray;margin: 0 0.4em 0.5em 0.4em;box-sizing: border-box;padding-bottom: 0.4em;background-color: white;}#sk-container-id-1 div.sk-label label {font-family: monospace;font-weight: bold;display: inline-block;line-height: 1.2em;}#sk-container-id-1 div.sk-label-container {text-align: center;}#sk-container-id-1 div.sk-container {/* jupyter's `normalize.less` sets `[hidden] { display: none; }` but bootstrap.min.css set `[hidden] { display: none !important; }` so we also need the `!important` here to be able to override the default hidden behavior on the sphinx rendered scikit-learn.org. See: https://github.com/scikit-learn/scikit-learn/issues/21755 */display: inline-block !important;position: relative;}#sk-container-id-1 div.sk-text-repr-fallback {display: none;}</style><div id=\"sk-container-id-1\" class=\"sk-top-container\"><div class=\"sk-text-repr-fallback\"><pre>RandomForestClassifier(class_weight=&#x27;balanced&#x27;, random_state=42)</pre><b>In a Jupyter environment, please rerun this cell to show the HTML representation or trust the notebook. <br />On GitHub, the HTML representation is unable to render, please try loading this page with nbviewer.org.</b></div><div class=\"sk-container\" hidden><div class=\"sk-item\"><div class=\"sk-estimator sk-toggleable\"><input class=\"sk-toggleable__control sk-hidden--visually\" id=\"sk-estimator-id-1\" type=\"checkbox\" checked><label for=\"sk-estimator-id-1\" class=\"sk-toggleable__label sk-toggleable__label-arrow\">RandomForestClassifier</label><div class=\"sk-toggleable__content\"><pre>RandomForestClassifier(class_weight=&#x27;balanced&#x27;, random_state=42)</pre></div></div></div></div></div>"
      ],
      "text/plain": [
       "RandomForestClassifier(class_weight='balanced', random_state=42)"
      ]
     },
     "execution_count": 28,
     "metadata": {},
     "output_type": "execute_result"
    }
   ],
   "source": [
    "# Adjusting class weights\n",
    "model_balanced = RandomForestClassifier(random_state=42, class_weight='balanced')\n",
    "model_balanced.fit(X_train, y_train)"
   ]
  },
  {
   "cell_type": "markdown",
   "id": "e386aa33",
   "metadata": {},
   "source": [
    "## Prediction and Evaluation with the Balanced Model\n",
    "After training the model with adjusted class weights, we proceed to make predictions on the test set. The performance of this model is then evaluated using accuracy, classification report, and confusion matrix, providing a comprehensive view of its effectiveness in predicting not fully paid loans with a more balanced approach."
   ]
  },
  {
   "cell_type": "code",
   "execution_count": 29,
   "id": "5728e651",
   "metadata": {},
   "outputs": [
    {
     "data": {
      "text/plain": [
       "(0.8011482254697286,\n",
       " '              precision    recall  f1-score   support\\n\\n           0       0.85      0.92      0.89      1611\\n           1       0.28      0.16      0.21       305\\n\\n    accuracy                           0.80      1916\\n   macro avg       0.57      0.54      0.55      1916\\nweighted avg       0.76      0.80      0.78      1916\\n',\n",
       " array([[1485,  126],\n",
       "        [ 255,   50]]))"
      ]
     },
     "execution_count": 29,
     "metadata": {},
     "output_type": "execute_result"
    }
   ],
   "source": [
    "# Predicting the Test set results with the new model\n",
    "y_pred_balanced = model_balanced.predict(X_test)\n",
    "\n",
    "# Evaluating the Balanced Model\n",
    "accuracy_balanced = accuracy_score(y_test, y_pred_balanced)\n",
    "report_balanced = classification_report(y_test, y_pred_balanced)\n",
    "conf_matrix_balanced = confusion_matrix(y_test, y_pred_balanced)\n",
    "\n",
    "# Displaying the evaluation metrics\n",
    "accuracy_balanced, report_balanced, conf_matrix_balanced"
   ]
  },
  {
   "cell_type": "markdown",
   "id": "707c2f48",
   "metadata": {},
   "source": [
    "## Optimizing Model Parameters with GridSearchCV\n",
    "\n",
    "Fine-tuning the hyperparameters of a model can significantly enhance its performance. To systematically explore a range of parameters and determine the optimal combination, we utilize `GridSearchCV` from `sklearn.model_selection`. This method performs an exhaustive search over specified parameter values for an estimator, using cross-validation to evaluate each combination's performance.\n",
    "\n",
    "### Setting Up Parameter Grid\n",
    "\n",
    "We define a parameter grid for the `RandomForestClassifier`, specifying a range of values for `n_estimators` (number of trees in the forest), `max_depth` (maximum depth of the tree), `min_samples_split` (minimum number of samples required to split an internal node), and `min_samples_leaf` (minimum number of samples required to be at a leaf node)."
   ]
  },
  {
   "cell_type": "code",
   "execution_count": 30,
   "id": "b398f7db-39bb-498a-98a7-c334e871a0a6",
   "metadata": {},
   "outputs": [],
   "source": [
    "from sklearn.model_selection import GridSearchCV\n",
    "\n",
    "# Setting up the parameter grid for Grid Search\n",
    "param_grid = {\n",
    "    'n_estimators': [100, 200, 300],\n",
    "    'max_depth': [10, 20, None],\n",
    "    'min_samples_split': [2, 5, 10],\n",
    "    'min_samples_leaf': [1, 2, 4]\n",
    "}"
   ]
  },
  {
   "cell_type": "markdown",
   "id": "84501304",
   "metadata": {},
   "source": [
    "### Executing Grid Search\n",
    "With the parameter grid established, we initiate the grid search, specifying the RandomForestClassifier as the estimator, the parameter grid, the number of folds for cross-validation, and setting n_jobs to -1 to use all available processor cores for faster computation."
   ]
  },
  {
   "cell_type": "code",
   "execution_count": 31,
   "id": "0912c9ad",
   "metadata": {},
   "outputs": [
    {
     "name": "stdout",
     "output_type": "stream",
     "text": [
      "Fitting 3 folds for each of 81 candidates, totalling 243 fits\n",
      "[CV] END max_depth=10, min_samples_leaf=1, min_samples_split=2, n_estimators=100; total time=   2.3s\n",
      "[CV] END max_depth=10, min_samples_leaf=1, min_samples_split=2, n_estimators=100; total time=   2.2s\n",
      "[CV] END max_depth=10, min_samples_leaf=1, min_samples_split=2, n_estimators=200; total time=   4.7s\n",
      "[CV] END max_depth=10, min_samples_leaf=1, min_samples_split=2, n_estimators=300; total time=   7.1s\n",
      "[CV] END max_depth=10, min_samples_leaf=1, min_samples_split=2, n_estimators=300; total time=   6.8s\n",
      "[CV] END max_depth=10, min_samples_leaf=1, min_samples_split=5, n_estimators=200; total time=   4.7s\n",
      "[CV] END max_depth=10, min_samples_leaf=1, min_samples_split=5, n_estimators=200; total time=   4.8s\n",
      "[CV] END max_depth=10, min_samples_leaf=1, min_samples_split=5, n_estimators=300; total time=   6.3s\n",
      "[CV] END max_depth=10, min_samples_leaf=1, min_samples_split=10, n_estimators=100; total time=   2.3s\n",
      "[CV] END max_depth=10, min_samples_leaf=1, min_samples_split=10, n_estimators=100; total time=   2.3s\n",
      "[CV] END max_depth=10, min_samples_leaf=1, min_samples_split=10, n_estimators=200; total time=   4.5s\n",
      "[CV] END max_depth=10, min_samples_leaf=1, min_samples_split=10, n_estimators=200; total time=   4.2s\n",
      "[CV] END max_depth=10, min_samples_leaf=1, min_samples_split=10, n_estimators=300; total time=   6.8s\n",
      "[CV] END max_depth=10, min_samples_leaf=2, min_samples_split=2, n_estimators=100; total time=   2.1s\n",
      "[CV] END max_depth=10, min_samples_leaf=2, min_samples_split=2, n_estimators=100; total time=   2.2s\n",
      "[CV] END max_depth=10, min_samples_leaf=2, min_samples_split=2, n_estimators=200; total time=   4.6s\n",
      "[CV] END max_depth=10, min_samples_leaf=2, min_samples_split=2, n_estimators=200; total time=   4.4s\n",
      "[CV] END max_depth=10, min_samples_leaf=2, min_samples_split=2, n_estimators=300; total time=   6.7s\n",
      "[CV] END max_depth=10, min_samples_leaf=2, min_samples_split=5, n_estimators=100; total time=   2.3s\n",
      "[CV] END max_depth=10, min_samples_leaf=2, min_samples_split=5, n_estimators=100; total time=   2.4s\n",
      "[CV] END max_depth=10, min_samples_leaf=2, min_samples_split=5, n_estimators=200; total time=   4.5s\n",
      "[CV] END max_depth=10, min_samples_leaf=2, min_samples_split=5, n_estimators=200; total time=   4.5s\n",
      "[CV] END max_depth=10, min_samples_leaf=2, min_samples_split=5, n_estimators=300; total time=   7.0s\n",
      "[CV] END max_depth=10, min_samples_leaf=2, min_samples_split=10, n_estimators=100; total time=   2.4s\n",
      "[CV] END max_depth=10, min_samples_leaf=2, min_samples_split=10, n_estimators=100; total time=   2.3s\n",
      "[CV] END max_depth=10, min_samples_leaf=2, min_samples_split=10, n_estimators=200; total time=   4.8s\n",
      "[CV] END max_depth=10, min_samples_leaf=2, min_samples_split=10, n_estimators=200; total time=   4.1s\n",
      "[CV] END max_depth=10, min_samples_leaf=2, min_samples_split=10, n_estimators=300; total time=   6.2s\n",
      "[CV] END max_depth=10, min_samples_leaf=4, min_samples_split=2, n_estimators=100; total time=   2.1s\n",
      "[CV] END max_depth=10, min_samples_leaf=4, min_samples_split=2, n_estimators=100; total time=   2.0s\n",
      "[CV] END max_depth=10, min_samples_leaf=4, min_samples_split=2, n_estimators=200; total time=   4.3s\n",
      "[CV] END max_depth=10, min_samples_leaf=4, min_samples_split=2, n_estimators=200; total time=   4.1s\n",
      "[CV] END max_depth=10, min_samples_leaf=4, min_samples_split=2, n_estimators=300; total time=   6.3s\n",
      "[CV] END max_depth=10, min_samples_leaf=4, min_samples_split=5, n_estimators=100; total time=   2.3s\n",
      "[CV] END max_depth=10, min_samples_leaf=4, min_samples_split=5, n_estimators=100; total time=   2.2s\n",
      "[CV] END max_depth=10, min_samples_leaf=4, min_samples_split=5, n_estimators=200; total time=   4.4s\n",
      "[CV] END max_depth=10, min_samples_leaf=4, min_samples_split=5, n_estimators=200; total time=   4.3s\n",
      "[CV] END max_depth=10, min_samples_leaf=4, min_samples_split=5, n_estimators=300; total time=   6.7s\n",
      "[CV] END max_depth=10, min_samples_leaf=4, min_samples_split=10, n_estimators=100; total time=   2.2s\n",
      "[CV] END max_depth=10, min_samples_leaf=4, min_samples_split=10, n_estimators=100; total time=   2.3s\n",
      "[CV] END max_depth=10, min_samples_leaf=4, min_samples_split=10, n_estimators=200; total time=   4.5s\n",
      "[CV] END max_depth=10, min_samples_leaf=4, min_samples_split=10, n_estimators=200; total time=   4.5s\n",
      "[CV] END max_depth=10, min_samples_leaf=4, min_samples_split=10, n_estimators=300; total time=   6.3s\n",
      "[CV] END max_depth=20, min_samples_leaf=1, min_samples_split=2, n_estimators=100; total time=   3.4s\n",
      "[CV] END max_depth=20, min_samples_leaf=1, min_samples_split=2, n_estimators=100; total time=   3.1s\n",
      "[CV] END max_depth=20, min_samples_leaf=1, min_samples_split=2, n_estimators=200; total time=   6.3s\n",
      "[CV] END max_depth=20, min_samples_leaf=1, min_samples_split=2, n_estimators=300; total time=   9.8s\n",
      "[CV] END max_depth=20, min_samples_leaf=1, min_samples_split=2, n_estimators=300; total time=   8.9s\n",
      "[CV] END max_depth=20, min_samples_leaf=1, min_samples_split=5, n_estimators=100; total time=   3.3s\n",
      "[CV] END max_depth=20, min_samples_leaf=1, min_samples_split=5, n_estimators=200; total time=   6.2s\n",
      "[CV] END max_depth=20, min_samples_leaf=1, min_samples_split=5, n_estimators=300; total time=   9.3s\n",
      "[CV] END max_depth=20, min_samples_leaf=1, min_samples_split=5, n_estimators=300; total time=   9.3s\n",
      "[CV] END max_depth=20, min_samples_leaf=1, min_samples_split=10, n_estimators=100; total time=   3.2s\n",
      "[CV] END max_depth=20, min_samples_leaf=1, min_samples_split=10, n_estimators=200; total time=   5.8s\n",
      "[CV] END max_depth=20, min_samples_leaf=1, min_samples_split=10, n_estimators=300; total time=   9.5s\n",
      "[CV] END max_depth=20, min_samples_leaf=1, min_samples_split=10, n_estimators=300; total time=   9.4s\n",
      "[CV] END max_depth=20, min_samples_leaf=2, min_samples_split=2, n_estimators=100; total time=   2.9s\n",
      "[CV] END max_depth=20, min_samples_leaf=2, min_samples_split=2, n_estimators=200; total time=   6.1s\n",
      "[CV] END max_depth=20, min_samples_leaf=2, min_samples_split=2, n_estimators=200; total time=   6.0s\n",
      "[CV] END max_depth=20, min_samples_leaf=2, min_samples_split=2, n_estimators=300; total time=   8.5s\n",
      "[CV] END max_depth=20, min_samples_leaf=2, min_samples_split=5, n_estimators=100; total time=   3.1s\n",
      "[CV] END max_depth=20, min_samples_leaf=2, min_samples_split=5, n_estimators=100; total time=   3.0s\n",
      "[CV] END max_depth=20, min_samples_leaf=2, min_samples_split=5, n_estimators=200; total time=   5.9s\n",
      "[CV] END max_depth=20, min_samples_leaf=2, min_samples_split=5, n_estimators=200; total time=   5.9s\n",
      "[CV] END max_depth=20, min_samples_leaf=2, min_samples_split=5, n_estimators=300; total time=   8.1s\n",
      "[CV] END max_depth=20, min_samples_leaf=2, min_samples_split=10, n_estimators=100; total time=   2.9s\n",
      "[CV] END max_depth=20, min_samples_leaf=2, min_samples_split=10, n_estimators=100; total time=   2.8s\n",
      "[CV] END max_depth=20, min_samples_leaf=2, min_samples_split=10, n_estimators=200; total time=   5.9s\n",
      "[CV] END max_depth=20, min_samples_leaf=2, min_samples_split=10, n_estimators=200; total time=   5.6s\n",
      "[CV] END max_depth=20, min_samples_leaf=2, min_samples_split=10, n_estimators=300; total time=   8.1s\n",
      "[CV] END max_depth=20, min_samples_leaf=4, min_samples_split=2, n_estimators=100; total time=   2.8s\n",
      "[CV] END max_depth=20, min_samples_leaf=4, min_samples_split=2, n_estimators=100; total time=   2.6s\n",
      "[CV] END max_depth=20, min_samples_leaf=4, min_samples_split=2, n_estimators=200; total time=   5.4s\n",
      "[CV] END max_depth=20, min_samples_leaf=4, min_samples_split=2, n_estimators=200; total time=   5.7s\n",
      "[CV] END max_depth=20, min_samples_leaf=4, min_samples_split=2, n_estimators=300; total time=   8.2s\n",
      "[CV] END max_depth=20, min_samples_leaf=4, min_samples_split=5, n_estimators=100; total time=   3.0s\n",
      "[CV] END max_depth=20, min_samples_leaf=4, min_samples_split=5, n_estimators=100; total time=   2.8s\n",
      "[CV] END max_depth=20, min_samples_leaf=4, min_samples_split=5, n_estimators=200; total time=   5.6s\n",
      "[CV] END max_depth=20, min_samples_leaf=4, min_samples_split=5, n_estimators=300; total time=   8.7s\n",
      "[CV] END max_depth=20, min_samples_leaf=4, min_samples_split=5, n_estimators=300; total time=   7.7s\n",
      "[CV] END max_depth=10, min_samples_leaf=1, min_samples_split=2, n_estimators=100; total time=   2.3s\n",
      "[CV] END max_depth=10, min_samples_leaf=1, min_samples_split=2, n_estimators=200; total time=   4.6s\n",
      "[CV] END max_depth=10, min_samples_leaf=1, min_samples_split=2, n_estimators=200; total time=   4.5s\n",
      "[CV] END max_depth=10, min_samples_leaf=1, min_samples_split=2, n_estimators=300; total time=   6.8s\n",
      "[CV] END max_depth=10, min_samples_leaf=1, min_samples_split=5, n_estimators=100; total time=   2.3s\n",
      "[CV] END max_depth=10, min_samples_leaf=1, min_samples_split=5, n_estimators=100; total time=   2.3s\n",
      "[CV] END max_depth=10, min_samples_leaf=1, min_samples_split=5, n_estimators=100; total time=   2.2s\n",
      "[CV] END max_depth=10, min_samples_leaf=1, min_samples_split=5, n_estimators=200; total time=   4.6s\n",
      "[CV] END max_depth=10, min_samples_leaf=1, min_samples_split=5, n_estimators=300; total time=   7.4s\n",
      "[CV] END max_depth=10, min_samples_leaf=1, min_samples_split=5, n_estimators=300; total time=   6.5s\n",
      "[CV] END max_depth=10, min_samples_leaf=1, min_samples_split=10, n_estimators=100; total time=   2.1s\n",
      "[CV] END max_depth=10, min_samples_leaf=1, min_samples_split=10, n_estimators=200; total time=   4.2s\n",
      "[CV] END max_depth=10, min_samples_leaf=1, min_samples_split=10, n_estimators=300; total time=   6.8s\n",
      "[CV] END max_depth=10, min_samples_leaf=1, min_samples_split=10, n_estimators=300; total time=   6.5s\n",
      "[CV] END max_depth=10, min_samples_leaf=2, min_samples_split=2, n_estimators=100; total time=   2.3s\n",
      "[CV] END max_depth=10, min_samples_leaf=2, min_samples_split=2, n_estimators=200; total time=   4.4s\n",
      "[CV] END max_depth=10, min_samples_leaf=2, min_samples_split=2, n_estimators=300; total time=   6.8s\n",
      "[CV] END max_depth=10, min_samples_leaf=2, min_samples_split=2, n_estimators=300; total time=   6.7s\n",
      "[CV] END max_depth=10, min_samples_leaf=2, min_samples_split=5, n_estimators=100; total time=   2.2s\n",
      "[CV] END max_depth=10, min_samples_leaf=2, min_samples_split=5, n_estimators=200; total time=   4.4s\n",
      "[CV] END max_depth=10, min_samples_leaf=2, min_samples_split=5, n_estimators=300; total time=   7.3s\n",
      "[CV] END max_depth=10, min_samples_leaf=2, min_samples_split=5, n_estimators=300; total time=   6.3s\n",
      "[CV] END max_depth=10, min_samples_leaf=2, min_samples_split=10, n_estimators=100; total time=   2.0s\n",
      "[CV] END max_depth=10, min_samples_leaf=2, min_samples_split=10, n_estimators=200; total time=   4.7s\n",
      "[CV] END max_depth=10, min_samples_leaf=2, min_samples_split=10, n_estimators=300; total time=   6.1s\n",
      "[CV] END max_depth=10, min_samples_leaf=2, min_samples_split=10, n_estimators=300; total time=   6.0s\n",
      "[CV] END max_depth=10, min_samples_leaf=4, min_samples_split=2, n_estimators=100; total time=   2.1s\n",
      "[CV] END max_depth=10, min_samples_leaf=4, min_samples_split=2, n_estimators=200; total time=   4.2s\n",
      "[CV] END max_depth=10, min_samples_leaf=4, min_samples_split=2, n_estimators=300; total time=   6.5s\n",
      "[CV] END max_depth=10, min_samples_leaf=4, min_samples_split=2, n_estimators=300; total time=   6.4s\n",
      "[CV] END max_depth=10, min_samples_leaf=4, min_samples_split=5, n_estimators=100; total time=   2.3s\n",
      "[CV] END max_depth=10, min_samples_leaf=4, min_samples_split=5, n_estimators=200; total time=   4.2s\n",
      "[CV] END max_depth=10, min_samples_leaf=4, min_samples_split=5, n_estimators=300; total time=   6.7s\n",
      "[CV] END max_depth=10, min_samples_leaf=4, min_samples_split=5, n_estimators=300; total time=   6.6s\n",
      "[CV] END max_depth=10, min_samples_leaf=4, min_samples_split=10, n_estimators=100; total time=   2.2s\n",
      "[CV] END max_depth=10, min_samples_leaf=4, min_samples_split=10, n_estimators=200; total time=   4.4s\n",
      "[CV] END max_depth=10, min_samples_leaf=4, min_samples_split=10, n_estimators=300; total time=   7.0s\n",
      "[CV] END max_depth=10, min_samples_leaf=4, min_samples_split=10, n_estimators=300; total time=   5.9s\n",
      "[CV] END max_depth=20, min_samples_leaf=1, min_samples_split=2, n_estimators=100; total time=   3.2s\n",
      "[CV] END max_depth=20, min_samples_leaf=1, min_samples_split=2, n_estimators=200; total time=   6.4s\n",
      "[CV] END max_depth=20, min_samples_leaf=1, min_samples_split=2, n_estimators=200; total time=   6.4s\n",
      "[CV] END max_depth=20, min_samples_leaf=1, min_samples_split=2, n_estimators=300; total time=   9.2s\n",
      "[CV] END max_depth=20, min_samples_leaf=1, min_samples_split=5, n_estimators=100; total time=   3.2s\n",
      "[CV] END max_depth=20, min_samples_leaf=1, min_samples_split=5, n_estimators=100; total time=   3.1s\n",
      "[CV] END max_depth=20, min_samples_leaf=1, min_samples_split=5, n_estimators=200; total time=   6.1s\n",
      "[CV] END max_depth=20, min_samples_leaf=1, min_samples_split=5, n_estimators=200; total time=   6.0s\n",
      "[CV] END max_depth=20, min_samples_leaf=1, min_samples_split=5, n_estimators=300; total time=   9.5s\n",
      "[CV] END max_depth=20, min_samples_leaf=1, min_samples_split=10, n_estimators=100; total time=   2.9s\n",
      "[CV] END max_depth=20, min_samples_leaf=1, min_samples_split=10, n_estimators=100; total time=   3.3s\n",
      "[CV] END max_depth=20, min_samples_leaf=1, min_samples_split=10, n_estimators=200; total time=   5.9s\n",
      "[CV] END max_depth=20, min_samples_leaf=1, min_samples_split=10, n_estimators=200; total time=   6.2s\n",
      "[CV] END max_depth=20, min_samples_leaf=1, min_samples_split=10, n_estimators=300; total time=   9.5s\n",
      "[CV] END max_depth=20, min_samples_leaf=2, min_samples_split=2, n_estimators=100; total time=   3.2s\n",
      "[CV] END max_depth=20, min_samples_leaf=2, min_samples_split=2, n_estimators=100; total time=   3.0s\n",
      "[CV] END max_depth=20, min_samples_leaf=2, min_samples_split=2, n_estimators=200; total time=   6.5s\n",
      "[CV] END max_depth=20, min_samples_leaf=2, min_samples_split=2, n_estimators=300; total time=   9.1s\n",
      "[CV] END max_depth=20, min_samples_leaf=2, min_samples_split=2, n_estimators=300; total time=   8.7s\n",
      "[CV] END max_depth=20, min_samples_leaf=2, min_samples_split=5, n_estimators=100; total time=   3.0s\n",
      "[CV] END max_depth=20, min_samples_leaf=2, min_samples_split=5, n_estimators=200; total time=   5.8s\n",
      "[CV] END max_depth=20, min_samples_leaf=2, min_samples_split=5, n_estimators=300; total time=   8.7s\n",
      "[CV] END max_depth=20, min_samples_leaf=2, min_samples_split=5, n_estimators=300; total time=   8.4s\n",
      "[CV] END max_depth=20, min_samples_leaf=2, min_samples_split=10, n_estimators=100; total time=   2.8s\n",
      "[CV] END max_depth=20, min_samples_leaf=2, min_samples_split=10, n_estimators=200; total time=   5.7s\n",
      "[CV] END max_depth=20, min_samples_leaf=2, min_samples_split=10, n_estimators=300; total time=   8.4s\n",
      "[CV] END max_depth=20, min_samples_leaf=2, min_samples_split=10, n_estimators=300; total time=   8.1s\n",
      "[CV] END max_depth=20, min_samples_leaf=4, min_samples_split=2, n_estimators=100; total time=   2.6s\n",
      "[CV] END max_depth=20, min_samples_leaf=4, min_samples_split=2, n_estimators=200; total time=   5.2s\n",
      "[CV] END max_depth=20, min_samples_leaf=4, min_samples_split=2, n_estimators=300; total time=   8.6s\n",
      "[CV] END max_depth=20, min_samples_leaf=4, min_samples_split=2, n_estimators=300; total time=   8.4s\n",
      "[CV] END max_depth=20, min_samples_leaf=4, min_samples_split=5, n_estimators=100; total time=   2.8s\n",
      "[CV] END max_depth=20, min_samples_leaf=4, min_samples_split=5, n_estimators=200; total time=   5.5s\n",
      "[CV] END max_depth=20, min_samples_leaf=4, min_samples_split=5, n_estimators=200; total time=   5.7s\n",
      "[CV] END max_depth=20, min_samples_leaf=4, min_samples_split=5, n_estimators=300; total time=   8.0s\n",
      "[CV] END max_depth=20, min_samples_leaf=4, min_samples_split=10, n_estimators=100; total time=   2.7s\n",
      "[CV] END max_depth=20, min_samples_leaf=4, min_samples_split=10, n_estimators=100; total time=   2.6s\n",
      "[CV] END max_depth=20, min_samples_leaf=4, min_samples_split=10, n_estimators=200; total time=   5.4s\n",
      "[CV] END max_depth=20, min_samples_leaf=4, min_samples_split=10, n_estimators=300; total time=   8.1s\n",
      "[CV] END max_depth=20, min_samples_leaf=4, min_samples_split=10, n_estimators=300; total time=   8.0s\n",
      "[CV] END max_depth=None, min_samples_leaf=1, min_samples_split=2, n_estimators=100; total time=   3.1s\n",
      "[CV] END max_depth=None, min_samples_leaf=1, min_samples_split=2, n_estimators=200; total time=   6.2s\n"
     ]
    },
    {
     "data": {
      "text/html": [
       "<style>#sk-container-id-2 {color: black;}#sk-container-id-2 pre{padding: 0;}#sk-container-id-2 div.sk-toggleable {background-color: white;}#sk-container-id-2 label.sk-toggleable__label {cursor: pointer;display: block;width: 100%;margin-bottom: 0;padding: 0.3em;box-sizing: border-box;text-align: center;}#sk-container-id-2 label.sk-toggleable__label-arrow:before {content: \"▸\";float: left;margin-right: 0.25em;color: #696969;}#sk-container-id-2 label.sk-toggleable__label-arrow:hover:before {color: black;}#sk-container-id-2 div.sk-estimator:hover label.sk-toggleable__label-arrow:before {color: black;}#sk-container-id-2 div.sk-toggleable__content {max-height: 0;max-width: 0;overflow: hidden;text-align: left;background-color: #f0f8ff;}#sk-container-id-2 div.sk-toggleable__content pre {margin: 0.2em;color: black;border-radius: 0.25em;background-color: #f0f8ff;}#sk-container-id-2 input.sk-toggleable__control:checked~div.sk-toggleable__content {max-height: 200px;max-width: 100%;overflow: auto;}#sk-container-id-2 input.sk-toggleable__control:checked~label.sk-toggleable__label-arrow:before {content: \"▾\";}#sk-container-id-2 div.sk-estimator input.sk-toggleable__control:checked~label.sk-toggleable__label {background-color: #d4ebff;}#sk-container-id-2 div.sk-label input.sk-toggleable__control:checked~label.sk-toggleable__label {background-color: #d4ebff;}#sk-container-id-2 input.sk-hidden--visually {border: 0;clip: rect(1px 1px 1px 1px);clip: rect(1px, 1px, 1px, 1px);height: 1px;margin: -1px;overflow: hidden;padding: 0;position: absolute;width: 1px;}#sk-container-id-2 div.sk-estimator {font-family: monospace;background-color: #f0f8ff;border: 1px dotted black;border-radius: 0.25em;box-sizing: border-box;margin-bottom: 0.5em;}#sk-container-id-2 div.sk-estimator:hover {background-color: #d4ebff;}#sk-container-id-2 div.sk-parallel-item::after {content: \"\";width: 100%;border-bottom: 1px solid gray;flex-grow: 1;}#sk-container-id-2 div.sk-label:hover label.sk-toggleable__label {background-color: #d4ebff;}#sk-container-id-2 div.sk-serial::before {content: \"\";position: absolute;border-left: 1px solid gray;box-sizing: border-box;top: 0;bottom: 0;left: 50%;z-index: 0;}#sk-container-id-2 div.sk-serial {display: flex;flex-direction: column;align-items: center;background-color: white;padding-right: 0.2em;padding-left: 0.2em;position: relative;}#sk-container-id-2 div.sk-item {position: relative;z-index: 1;}#sk-container-id-2 div.sk-parallel {display: flex;align-items: stretch;justify-content: center;background-color: white;position: relative;}#sk-container-id-2 div.sk-item::before, #sk-container-id-2 div.sk-parallel-item::before {content: \"\";position: absolute;border-left: 1px solid gray;box-sizing: border-box;top: 0;bottom: 0;left: 50%;z-index: -1;}#sk-container-id-2 div.sk-parallel-item {display: flex;flex-direction: column;z-index: 1;position: relative;background-color: white;}#sk-container-id-2 div.sk-parallel-item:first-child::after {align-self: flex-end;width: 50%;}#sk-container-id-2 div.sk-parallel-item:last-child::after {align-self: flex-start;width: 50%;}#sk-container-id-2 div.sk-parallel-item:only-child::after {width: 0;}#sk-container-id-2 div.sk-dashed-wrapped {border: 1px dashed gray;margin: 0 0.4em 0.5em 0.4em;box-sizing: border-box;padding-bottom: 0.4em;background-color: white;}#sk-container-id-2 div.sk-label label {font-family: monospace;font-weight: bold;display: inline-block;line-height: 1.2em;}#sk-container-id-2 div.sk-label-container {text-align: center;}#sk-container-id-2 div.sk-container {/* jupyter's `normalize.less` sets `[hidden] { display: none; }` but bootstrap.min.css set `[hidden] { display: none !important; }` so we also need the `!important` here to be able to override the default hidden behavior on the sphinx rendered scikit-learn.org. See: https://github.com/scikit-learn/scikit-learn/issues/21755 */display: inline-block !important;position: relative;}#sk-container-id-2 div.sk-text-repr-fallback {display: none;}</style><div id=\"sk-container-id-2\" class=\"sk-top-container\"><div class=\"sk-text-repr-fallback\"><pre>GridSearchCV(cv=3, estimator=RandomForestClassifier(random_state=42), n_jobs=-1,\n",
       "             param_grid={&#x27;max_depth&#x27;: [10, 20, None],\n",
       "                         &#x27;min_samples_leaf&#x27;: [1, 2, 4],\n",
       "                         &#x27;min_samples_split&#x27;: [2, 5, 10],\n",
       "                         &#x27;n_estimators&#x27;: [100, 200, 300]},\n",
       "             verbose=2)</pre><b>In a Jupyter environment, please rerun this cell to show the HTML representation or trust the notebook. <br />On GitHub, the HTML representation is unable to render, please try loading this page with nbviewer.org.</b></div><div class=\"sk-container\" hidden><div class=\"sk-item sk-dashed-wrapped\"><div class=\"sk-label-container\"><div class=\"sk-label sk-toggleable\"><input class=\"sk-toggleable__control sk-hidden--visually\" id=\"sk-estimator-id-2\" type=\"checkbox\" ><label for=\"sk-estimator-id-2\" class=\"sk-toggleable__label sk-toggleable__label-arrow\">GridSearchCV</label><div class=\"sk-toggleable__content\"><pre>GridSearchCV(cv=3, estimator=RandomForestClassifier(random_state=42), n_jobs=-1,\n",
       "             param_grid={&#x27;max_depth&#x27;: [10, 20, None],\n",
       "                         &#x27;min_samples_leaf&#x27;: [1, 2, 4],\n",
       "                         &#x27;min_samples_split&#x27;: [2, 5, 10],\n",
       "                         &#x27;n_estimators&#x27;: [100, 200, 300]},\n",
       "             verbose=2)</pre></div></div></div><div class=\"sk-parallel\"><div class=\"sk-parallel-item\"><div class=\"sk-item\"><div class=\"sk-label-container\"><div class=\"sk-label sk-toggleable\"><input class=\"sk-toggleable__control sk-hidden--visually\" id=\"sk-estimator-id-3\" type=\"checkbox\" ><label for=\"sk-estimator-id-3\" class=\"sk-toggleable__label sk-toggleable__label-arrow\">estimator: RandomForestClassifier</label><div class=\"sk-toggleable__content\"><pre>RandomForestClassifier(random_state=42)</pre></div></div></div><div class=\"sk-serial\"><div class=\"sk-item\"><div class=\"sk-estimator sk-toggleable\"><input class=\"sk-toggleable__control sk-hidden--visually\" id=\"sk-estimator-id-4\" type=\"checkbox\" ><label for=\"sk-estimator-id-4\" class=\"sk-toggleable__label sk-toggleable__label-arrow\">RandomForestClassifier</label><div class=\"sk-toggleable__content\"><pre>RandomForestClassifier(random_state=42)</pre></div></div></div></div></div></div></div></div></div></div>"
      ],
      "text/plain": [
       "GridSearchCV(cv=3, estimator=RandomForestClassifier(random_state=42), n_jobs=-1,\n",
       "             param_grid={'max_depth': [10, 20, None],\n",
       "                         'min_samples_leaf': [1, 2, 4],\n",
       "                         'min_samples_split': [2, 5, 10],\n",
       "                         'n_estimators': [100, 200, 300]},\n",
       "             verbose=2)"
      ]
     },
     "execution_count": 31,
     "metadata": {},
     "output_type": "execute_result"
    }
   ],
   "source": [
    "\n",
    "# Setting up the Grid Search with a RandomForestClassifier and the parameter grid\n",
    "grid_search = GridSearchCV(estimator=RandomForestClassifier(random_state=42), \n",
    "                           param_grid=param_grid, \n",
    "                           cv=3,  # Number of cross-validation folds\n",
    "                           n_jobs=-1,  # Use all available cores\n",
    "                           verbose=2)\n",
    "\n",
    "# Fitting the Grid Search to the data\n",
    "grid_search.fit(X_train, y_train)"
   ]
  },
  {
   "cell_type": "markdown",
   "id": "86c83451",
   "metadata": {},
   "source": [
    "### Best Parameters\n",
    "After completing the grid search, we extract the best parameters found, providing valuable insights into the most effective settings for our RandomForestClassifier model."
   ]
  },
  {
   "cell_type": "code",
   "execution_count": 32,
   "id": "b0655d30",
   "metadata": {},
   "outputs": [
    {
     "data": {
      "text/plain": [
       "{'max_depth': None,\n",
       " 'min_samples_leaf': 1,\n",
       " 'min_samples_split': 2,\n",
       " 'n_estimators': 300}"
      ]
     },
     "execution_count": 32,
     "metadata": {},
     "output_type": "execute_result"
    }
   ],
   "source": [
    "# Best parameters found by Grid Search\n",
    "best_params = grid_search.best_params_\n",
    "best_params"
   ]
  },
  {
   "cell_type": "markdown",
   "id": "5a1d2187",
   "metadata": {},
   "source": [
    "### Re-importing Libraries and Reloading Data\n",
    "\n",
    "After a reset of the code execution state, it's crucial to ensure all necessary libraries are re-imported and the dataset is reloaded. This step establishes the foundation for subsequent analysis and model optimization.\n",
    "\n",
    "- **Libraries:** Re-import `pandas` for data manipulation, `StandardScaler` for feature scaling, and relevant `sklearn` modules for model selection and evaluation.\n",
    "- **Data Reload:** The transformed loan data is reloaded from a CSV file, ensuring continuity in our analysis."
   ]
  },
  {
   "cell_type": "code",
   "execution_count": 33,
   "id": "d1915221",
   "metadata": {},
   "outputs": [],
   "source": [
    "# Re-importing necessary libraries and redefining variables after code execution state reset\n",
    "from sklearn.model_selection import GridSearchCV, train_test_split\n",
    "from sklearn.ensemble import RandomForestClassifier\n",
    "from sklearn.preprocessing import StandardScaler\n",
    "import pandas as pd\n",
    "\n",
    "# Reload the transformed data\n",
    "transformed_loan_data_path = 'transformed_loan_data.csv'\n",
    "transformed_loan_data = pd.read_csv(transformed_loan_data_path)\n"
   ]
  },
  {
   "cell_type": "markdown",
   "id": "b90ec098",
   "metadata": {},
   "source": [
    "### Preparing the Data\n",
    "\n",
    "Before diving into model optimization, the dataset undergoes preparation steps, including feature scaling and splitting into training and testing sets. These steps are pivotal for enhancing model performance and evaluation accuracy.\n",
    "\n",
    "- **Feature Scaling:** Standardizes the numerical features to have a mean of 0 and a standard deviation of 1.\n",
    "- **Data Splitting:** Segregates the dataset into features (`X`) and target variable (`y`), and further into training and testing sets."
   ]
  },
  {
   "cell_type": "code",
   "execution_count": 34,
   "id": "60f57be2-f3a6-44c5-b253-0dc706297af8",
   "metadata": {},
   "outputs": [],
   "source": [
    "# Redefine the numerical features list\n",
    "numerical_features = ['int.rate', 'installment', 'log.annual.inc', 'dti', 'fico', 'days.with.cr.line', 'revol.bal', 'revol.util']\n",
    "\n",
    "# Scaling Numerical Features\n",
    "scaler = StandardScaler()\n",
    "transformed_loan_data[numerical_features] = scaler.fit_transform(transformed_loan_data[numerical_features])\n",
    "\n",
    "# Splitting the dataset into features and target variable\n",
    "X = transformed_loan_data.drop('not.fully.paid', axis=1)\n",
    "y = transformed_loan_data['not.fully.paid']\n",
    "\n",
    "# Splitting the data into training and testing sets\n",
    "X_train, X_test, y_train, y_test = train_test_split(X, y, test_size=0.2, random_state=42)"
   ]
  },
  {
   "cell_type": "markdown",
   "id": "32191aee",
   "metadata": {},
   "source": [
    "### Simplified Grid Search Setup\n",
    "\n",
    "The Grid Search is a systematic approach to tuning hyperparameters, ensuring the selection of the best parameters for the model. This process involves:\n",
    "- **Parameter Grid:** Specifies the hyperparameters to test.\n",
    "- **Model Selection:** Uses `RandomForestClassifier` with adjusted class weights to handle imbalanced data.\n",
    "- **Cross-Validation:** Ensures robustness and generalizability of the model performance."
   ]
  },
  {
   "cell_type": "code",
   "execution_count": 35,
   "id": "6e7e24ba",
   "metadata": {},
   "outputs": [
    {
     "name": "stdout",
     "output_type": "stream",
     "text": [
      "Fitting 3 folds for each of 6 candidates, totalling 18 fits\n"
     ]
    },
    {
     "data": {
      "text/plain": [
       "{'max_depth': None, 'n_estimators': 200}"
      ]
     },
     "execution_count": 35,
     "metadata": {},
     "output_type": "execute_result"
    }
   ],
   "source": [
    "\n",
    "# Simplified Grid Search setup\n",
    "simplified_param_grid = {\n",
    "    'n_estimators': [100, 200],  # Number of trees\n",
    "    'max_depth': [10, 20, None],  # Maximum depth of the tree\n",
    "}\n",
    "\n",
    "# Setting up the simplified Grid Search\n",
    "simplified_grid_search = GridSearchCV(estimator=RandomForestClassifier(random_state=42, class_weight='balanced'), \n",
    "                                      param_grid=simplified_param_grid, \n",
    "                                      cv=3,  # Number of cross-validation folds\n",
    "                                      n_jobs=-1,  # Use all available cores\n",
    "                                      verbose=2)\n",
    "\n",
    "# Fitting the Grid Search to the data\n",
    "simplified_grid_search.fit(X_train, y_train)\n",
    "\n",
    "# Best parameters found by the simplified Grid Search\n",
    "best_params_simplified = simplified_grid_search.best_params_\n",
    "best_params_simplified"
   ]
  },
  {
   "cell_type": "markdown",
   "id": "041a72c7",
   "metadata": {},
   "source": [
    "## Data Preparation and Feature Importance Analysis with RandomForestClassifier\n",
    "\n",
    "This section outlines the process of re-importing necessary libraries, reloading the loan data, applying one-hot encoding to categorical variables, scaling numerical features, splitting the data for model training, and analyzing feature importances using a `RandomForestClassifier`. Each step is crucial for ensuring the data is appropriately preprocessed for machine learning modeling and for identifying the most influential features in predicting loan payment outcomes.\n",
    "\n",
    "#### Re-importing Libraries and Loading Data\n",
    "\n",
    "First, we re-import essential libraries such as `pandas` for data manipulation, `OneHotEncoder` and `StandardScaler` from `sklearn.preprocessing` for data transformation, and `RandomForestClassifier` from `sklearn.ensemble` for model building:\n"
   ]
  },
  {
   "cell_type": "code",
   "execution_count": 36,
   "id": "9d909226",
   "metadata": {},
   "outputs": [],
   "source": [
    "from sklearn.preprocessing import OneHotEncoder, StandardScaler\n",
    "from sklearn.ensemble import RandomForestClassifier\n",
    "from sklearn.model_selection import train_test_split\n",
    "import pandas as pd"
   ]
  },
  {
   "cell_type": "markdown",
   "id": "e7983817",
   "metadata": {},
   "source": [
    "### Loading and Preparing the Loan Data\n",
    "The original loan dataset is loaded from a CSV file. We then perform one-hot encoding on the purpose column to convert categorical data into a machine-readable format. This transformation is essential for including categorical variables in our predictive model"
   ]
  },
  {
   "cell_type": "code",
   "execution_count": 37,
   "id": "9948ccfd-6c07-4508-a049-a69025e9d18e",
   "metadata": {},
   "outputs": [
    {
     "name": "stderr",
     "output_type": "stream",
     "text": [
      "/voc/work/.local/lib/python3.10/site-packages/sklearn/preprocessing/_encoders.py:975: FutureWarning: `sparse` was renamed to `sparse_output` in version 1.2 and will be removed in 1.4. `sparse_output` is ignored unless you leave `sparse` to its default value.\n",
      "  warnings.warn(\n"
     ]
    }
   ],
   "source": [
    "# Loading the original loan data CSV file again\n",
    "original_loan_data_path = 'loan_data.csv'\n",
    "original_loan_data = pd.read_csv(original_loan_data_path)\n",
    "\n",
    "# One-hot encoding the 'purpose' column\n",
    "encoder = OneHotEncoder(sparse=False)\n",
    "encoded_purpose = encoder.fit_transform(original_loan_data[['purpose']])\n",
    "\n",
    "# Creating a DataFrame from the encoded data\n",
    "encoded_purpose_df = pd.DataFrame(encoded_purpose, columns=encoder.get_feature_names_out(['purpose']))\n",
    "\n",
    "# Merging the encoded DataFrame back with the original loan data\n",
    "transformed_loan_data = original_loan_data.join(encoded_purpose_df)\n",
    "\n",
    "# Dropping the original 'purpose' column\n",
    "transformed_loan_data.drop('purpose', axis=1, inplace=True)"
   ]
  },
  {
   "cell_type": "markdown",
   "id": "3367b396",
   "metadata": {},
   "source": [
    "### Feature Scaling\n",
    "We define and scale numerical features to normalize their ranges, improving model performance by treating all features equally."
   ]
  },
  {
   "cell_type": "code",
   "execution_count": 38,
   "id": "e8a4ebe5",
   "metadata": {},
   "outputs": [],
   "source": [
    "# Defining numerical features for scaling\n",
    "numerical_features = ['int.rate', 'installment', 'log.annual.inc', 'dti', 'fico', 'days.with.cr.line', 'revol.bal', 'revol.util']\n",
    "\n",
    "# Scaling Numerical Features\n",
    "scaler = StandardScaler()\n",
    "transformed_loan_data[numerical_features] = scaler.fit_transform(transformed_loan_data[numerical_features])"
   ]
  },
  {
   "cell_type": "markdown",
   "id": "b682fe53",
   "metadata": {},
   "source": [
    "### Data Splitting for Model Training\n",
    "The dataset is split into features (X) and the target variable (y), and further into training and testing sets. This setup is critical for evaluating the model's performance on unseen data."
   ]
  },
  {
   "cell_type": "code",
   "execution_count": 39,
   "id": "c7776216",
   "metadata": {},
   "outputs": [],
   "source": [
    "# Splitting the dataset into features and target variable\n",
    "X = transformed_loan_data.drop('not.fully.paid', axis=1)\n",
    "y = transformed_loan_data['not.fully.paid']\n",
    "\n",
    "# Splitting the data into training and testing sets\n",
    "X_train, X_test, y_train, y_test = train_test_split(X, y, test_size=0.2, random_state=42)"
   ]
  },
  {
   "cell_type": "markdown",
   "id": "69f9b48d",
   "metadata": {},
   "source": [
    "### Training the Model and Analyzing Feature Importances\n",
    "A RandomForestClassifier is trained on the processed dataset. After training, we extract and examine the feature importances to identify the most significant predictors of loan repayment."
   ]
  },
  {
   "cell_type": "code",
   "execution_count": 40,
   "id": "9df1f597",
   "metadata": {},
   "outputs": [
    {
     "data": {
      "text/html": [
       "<div>\n",
       "<style scoped>\n",
       "    .dataframe tbody tr th:only-of-type {\n",
       "        vertical-align: middle;\n",
       "    }\n",
       "\n",
       "    .dataframe tbody tr th {\n",
       "        vertical-align: top;\n",
       "    }\n",
       "\n",
       "    .dataframe thead th {\n",
       "        text-align: right;\n",
       "    }\n",
       "</style>\n",
       "<table border=\"1\" class=\"dataframe\">\n",
       "  <thead>\n",
       "    <tr style=\"text-align: right;\">\n",
       "      <th></th>\n",
       "      <th>Feature</th>\n",
       "      <th>Importance</th>\n",
       "    </tr>\n",
       "  </thead>\n",
       "  <tbody>\n",
       "    <tr>\n",
       "      <th>6</th>\n",
       "      <td>days.with.cr.line</td>\n",
       "      <td>0.115035</td>\n",
       "    </tr>\n",
       "    <tr>\n",
       "      <th>2</th>\n",
       "      <td>installment</td>\n",
       "      <td>0.113109</td>\n",
       "    </tr>\n",
       "    <tr>\n",
       "      <th>7</th>\n",
       "      <td>revol.bal</td>\n",
       "      <td>0.111179</td>\n",
       "    </tr>\n",
       "    <tr>\n",
       "      <th>8</th>\n",
       "      <td>revol.util</td>\n",
       "      <td>0.109358</td>\n",
       "    </tr>\n",
       "    <tr>\n",
       "      <th>4</th>\n",
       "      <td>dti</td>\n",
       "      <td>0.109002</td>\n",
       "    </tr>\n",
       "    <tr>\n",
       "      <th>3</th>\n",
       "      <td>log.annual.inc</td>\n",
       "      <td>0.108895</td>\n",
       "    </tr>\n",
       "    <tr>\n",
       "      <th>1</th>\n",
       "      <td>int.rate</td>\n",
       "      <td>0.104577</td>\n",
       "    </tr>\n",
       "    <tr>\n",
       "      <th>5</th>\n",
       "      <td>fico</td>\n",
       "      <td>0.077311</td>\n",
       "    </tr>\n",
       "    <tr>\n",
       "      <th>9</th>\n",
       "      <td>inq.last.6mths</td>\n",
       "      <td>0.053512</td>\n",
       "    </tr>\n",
       "    <tr>\n",
       "      <th>0</th>\n",
       "      <td>credit.policy</td>\n",
       "      <td>0.014596</td>\n",
       "    </tr>\n",
       "    <tr>\n",
       "      <th>10</th>\n",
       "      <td>delinq.2yrs</td>\n",
       "      <td>0.013743</td>\n",
       "    </tr>\n",
       "    <tr>\n",
       "      <th>14</th>\n",
       "      <td>purpose_debt_consolidation</td>\n",
       "      <td>0.013031</td>\n",
       "    </tr>\n",
       "    <tr>\n",
       "      <th>12</th>\n",
       "      <td>purpose_all_other</td>\n",
       "      <td>0.011980</td>\n",
       "    </tr>\n",
       "    <tr>\n",
       "      <th>11</th>\n",
       "      <td>pub.rec</td>\n",
       "      <td>0.009655</td>\n",
       "    </tr>\n",
       "    <tr>\n",
       "      <th>18</th>\n",
       "      <td>purpose_small_business</td>\n",
       "      <td>0.009003</td>\n",
       "    </tr>\n",
       "    <tr>\n",
       "      <th>16</th>\n",
       "      <td>purpose_home_improvement</td>\n",
       "      <td>0.007878</td>\n",
       "    </tr>\n",
       "    <tr>\n",
       "      <th>13</th>\n",
       "      <td>purpose_credit_card</td>\n",
       "      <td>0.007863</td>\n",
       "    </tr>\n",
       "    <tr>\n",
       "      <th>15</th>\n",
       "      <td>purpose_educational</td>\n",
       "      <td>0.006232</td>\n",
       "    </tr>\n",
       "    <tr>\n",
       "      <th>17</th>\n",
       "      <td>purpose_major_purchase</td>\n",
       "      <td>0.004038</td>\n",
       "    </tr>\n",
       "  </tbody>\n",
       "</table>\n",
       "</div>"
      ],
      "text/plain": [
       "                       Feature  Importance\n",
       "6            days.with.cr.line    0.115035\n",
       "2                  installment    0.113109\n",
       "7                    revol.bal    0.111179\n",
       "8                   revol.util    0.109358\n",
       "4                          dti    0.109002\n",
       "3               log.annual.inc    0.108895\n",
       "1                     int.rate    0.104577\n",
       "5                         fico    0.077311\n",
       "9               inq.last.6mths    0.053512\n",
       "0                credit.policy    0.014596\n",
       "10                 delinq.2yrs    0.013743\n",
       "14  purpose_debt_consolidation    0.013031\n",
       "12           purpose_all_other    0.011980\n",
       "11                     pub.rec    0.009655\n",
       "18      purpose_small_business    0.009003\n",
       "16    purpose_home_improvement    0.007878\n",
       "13         purpose_credit_card    0.007863\n",
       "15         purpose_educational    0.006232\n",
       "17      purpose_major_purchase    0.004038"
      ]
     },
     "execution_count": 40,
     "metadata": {},
     "output_type": "execute_result"
    }
   ],
   "source": [
    "# Training RandomForestClassifier\n",
    "model_for_feature_selection = RandomForestClassifier(random_state=42)\n",
    "model_for_feature_selection.fit(X_train, y_train)\n",
    "\n",
    "# Extracting Feature Importances\n",
    "feature_importances = model_for_feature_selection.feature_importances_\n",
    "feature_importance_df = pd.DataFrame({'Feature': X_train.columns, 'Importance': feature_importances})\n",
    "\n",
    "# Displaying feature importances\n",
    "feature_importance_df.sort_values(by='Importance', ascending=False)"
   ]
  },
  {
   "cell_type": "markdown",
   "id": "62b6961f",
   "metadata": {},
   "source": [
    "## Model Training and Evaluation: Gradient Boosting, XGBoost, and Logistic Regression\n",
    "\n",
    "In this section, we explore the performance of three distinct machine learning models on our dataset: Gradient Boosting Classifier, XGBoost Classifier, and Logistic Regression. Each model offers unique strengths and is evaluated based on its accuracy, precision, recall, and confusion matrix. This comparative approach allows us to identify the most effective model for predicting loan repayment.\n",
    "\n",
    "#### Gradient Boosting Classifier\n",
    "\n",
    "The Gradient Boosting Classifier is a powerful ensemble technique that builds on decision trees sequentially, with each tree correcting errors made by the previous ones."
   ]
  },
  {
   "cell_type": "code",
   "execution_count": 41,
   "id": "ccc42779",
   "metadata": {},
   "outputs": [],
   "source": [
    "from sklearn.ensemble import GradientBoostingClassifier\n",
    "\n",
    "# Training Gradient Boosting Classifier\n",
    "gb_model = GradientBoostingClassifier(random_state=42)\n",
    "gb_model.fit(X_train, y_train)\n",
    "y_pred_gb = gb_model.predict(X_test)\n",
    "\n",
    "# Evaluating Gradient Boosting Classifier\n",
    "accuracy_gb = accuracy_score(y_test, y_pred_gb)\n",
    "report_gb = classification_report(y_test, y_pred_gb)\n",
    "conf_matrix_gb = confusion_matrix(y_test, y_pred_gb)"
   ]
  },
  {
   "cell_type": "markdown",
   "id": "c9ff607f",
   "metadata": {},
   "source": [
    "### XGBoost Classifier\n",
    "XGBoost stands for Extreme Gradient Boosting, an implementation of gradient boosting with more efficiency and effectiveness, especially in handling large datasets."
   ]
  },
  {
   "cell_type": "code",
   "execution_count": 42,
   "id": "ddd6c7f1",
   "metadata": {},
   "outputs": [],
   "source": [
    "from xgboost import XGBClassifier\n",
    "\n",
    "# Training XGBoost Classifier\n",
    "xgb_model = XGBClassifier(random_state=42)\n",
    "xgb_model.fit(X_train, y_train)\n",
    "y_pred_xgb = xgb_model.predict(X_test)\n",
    "\n",
    "# Evaluating XGBoost Classifier\n",
    "accuracy_xgb = accuracy_score(y_test, y_pred_xgb)\n",
    "report_xgb = classification_report(y_test, y_pred_xgb)\n",
    "conf_matrix_xgb = confusion_matrix(y_test, y_pred_xgb)"
   ]
  },
  {
   "cell_type": "markdown",
   "id": "0f1d4496",
   "metadata": {},
   "source": [
    "### Logistic Regression with Class Weight Adjustment\n",
    "Logistic Regression is a straightforward yet powerful algorithm for binary classification problems. Adjusting the class weight helps address imbalances in the dataset, improving the model's performance on underrepresented classes."
   ]
  },
  {
   "cell_type": "code",
   "execution_count": 43,
   "id": "4b8fbe0f-901e-41fa-98d5-8e9a1857823d",
   "metadata": {},
   "outputs": [
    {
     "data": {
      "text/plain": [
       "((0.837160751565762,\n",
       "  '              precision    recall  f1-score   support\\n\\n           0       0.84      0.99      0.91      1611\\n           1       0.33      0.02      0.04       305\\n\\n    accuracy                           0.84      1916\\n   macro avg       0.59      0.51      0.48      1916\\nweighted avg       0.76      0.84      0.77      1916\\n',\n",
       "  array([[1597,   14],\n",
       "         [ 298,    7]])),\n",
       " (0.8262004175365344,\n",
       "  '              precision    recall  f1-score   support\\n\\n           0       0.85      0.97      0.90      1611\\n           1       0.28      0.06      0.10       305\\n\\n    accuracy                           0.83      1916\\n   macro avg       0.56      0.52      0.50      1916\\nweighted avg       0.76      0.83      0.78      1916\\n',\n",
       "  array([[1565,   46],\n",
       "         [ 287,   18]])),\n",
       " (0.6497912317327766,\n",
       "  '              precision    recall  f1-score   support\\n\\n           0       0.91      0.65      0.76      1611\\n           1       0.26      0.67      0.38       305\\n\\n    accuracy                           0.65      1916\\n   macro avg       0.59      0.66      0.57      1916\\nweighted avg       0.81      0.65      0.70      1916\\n',\n",
       "  array([[1041,  570],\n",
       "         [ 101,  204]])))"
      ]
     },
     "execution_count": 43,
     "metadata": {},
     "output_type": "execute_result"
    }
   ],
   "source": [
    "from sklearn.linear_model import LogisticRegression\n",
    "\n",
    "# Training Logistic Regression with Class Weight Adjustment\n",
    "lr_model = LogisticRegression(random_state=42, class_weight='balanced')\n",
    "lr_model.fit(X_train, y_train)\n",
    "y_pred_lr = lr_model.predict(X_test)\n",
    "\n",
    "# Evaluating Logistic Regression\n",
    "accuracy_lr = accuracy_score(y_test, y_pred_lr)\n",
    "report_lr = classification_report(y_test, y_pred_lr)\n",
    "conf_matrix_lr = confusion_matrix(y_test, y_pred_lr)\n",
    "\n",
    "(accuracy_gb, report_gb, conf_matrix_gb), (accuracy_xgb, report_xgb, conf_matrix_xgb), (accuracy_lr, report_lr, conf_matrix_lr)"
   ]
  },
  {
   "cell_type": "markdown",
   "id": "11ac5e0a",
   "metadata": {},
   "source": [
    "## Re-training Logistic Regression with Class Weight Adjustment\n",
    "\n",
    "Due to a previous error, we revisit the Logistic Regression model, emphasizing class weight adjustment to better handle class imbalances within our dataset. This step is crucial for ensuring that our model does not bias towards the majority class and can predict the minority class more accurately.\n",
    "\n",
    "#### Logistic Regression with Class Weight Adjustment\n",
    "\n",
    "Logistic Regression is a robust algorithm suitable for binary classification tasks. Adjusting the class weight parameter allows the model to pay more attention to underrepresented classes, thereby improving its predictive performance across all classes."
   ]
  },
  {
   "cell_type": "code",
   "execution_count": 44,
   "id": "8c0717a5-3380-4508-bd69-a4cf1ff8a227",
   "metadata": {},
   "outputs": [],
   "source": [
    "# Re-training and evaluating Logistic Regression with Class Weight Adjustment due to previous error\n",
    "\n",
    "# Logistic Regression with Class Weight Adjustment\n",
    "lr_model = LogisticRegression(random_state=42, class_weight='balanced')\n",
    "lr_model.fit(X_train, y_train)\n",
    "y_pred_lr = lr_model.predict(X_test)"
   ]
  },
  {
   "cell_type": "markdown",
   "id": "298802e3",
   "metadata": {},
   "source": [
    "### Evaluating the Model\n",
    "After re-training, we evaluate the Logistic Regression model to assess its performance. The evaluation metrics include accuracy, a classification report detailing precision, recall, and F1-score for each class, and a confusion matrix, providing insights into the model's prediction capabilities."
   ]
  },
  {
   "cell_type": "code",
   "execution_count": 45,
   "id": "50a2f998",
   "metadata": {},
   "outputs": [
    {
     "data": {
      "text/plain": [
       "((0.837160751565762,\n",
       "  '              precision    recall  f1-score   support\\n\\n           0       0.84      0.99      0.91      1611\\n           1       0.33      0.02      0.04       305\\n\\n    accuracy                           0.84      1916\\n   macro avg       0.59      0.51      0.48      1916\\nweighted avg       0.76      0.84      0.77      1916\\n',\n",
       "  array([[1597,   14],\n",
       "         [ 298,    7]])),\n",
       " (0.6497912317327766,\n",
       "  '              precision    recall  f1-score   support\\n\\n           0       0.91      0.65      0.76      1611\\n           1       0.26      0.67      0.38       305\\n\\n    accuracy                           0.65      1916\\n   macro avg       0.59      0.66      0.57      1916\\nweighted avg       0.81      0.65      0.70      1916\\n',\n",
       "  array([[1041,  570],\n",
       "         [ 101,  204]])))"
      ]
     },
     "execution_count": 45,
     "metadata": {},
     "output_type": "execute_result"
    }
   ],
   "source": [
    "# Evaluating Logistic Regression\n",
    "accuracy_lr = accuracy_score(y_test, y_pred_lr)\n",
    "report_lr = classification_report(y_test, y_pred_lr)\n",
    "conf_matrix_lr = confusion_matrix(y_test, y_pred_lr)\n",
    "\n",
    "(accuracy_gb, report_gb, conf_matrix_gb), (accuracy_lr, report_lr, conf_matrix_lr)"
   ]
  },
  {
   "cell_type": "markdown",
   "id": "baeceb15",
   "metadata": {},
   "source": [
    "## Building a Simple Neural Network with Keras\n",
    "\n",
    "In this section, we construct a neural network to tackle our binary classification task. Utilizing the Keras library with TensorFlow as the backend, we define a model architecture that includes an input layer, hidden layers, and an output layer. This structure is aimed at learning the complex patterns in our data to accurately predict loan repayment outcomes.\n",
    "\n",
    "### Model Architecture\n",
    "\n",
    "The model is designed with simplicity in mind, yet it retains the capacity to capture and learn from the intricacies in our dataset:\n",
    "\n",
    "- **Input Layer:** Matches the number of features in our dataset to ensure each input variable is accounted for in the model's learning process.\n",
    "- **Hidden Layers:** Comprises one primary hidden layer with 10 neurons and an additional layer with 5 neurons, both using the ReLU activation function for non-linearity.\n",
    "- **Output Layer:** Utilizes a single neuron with a sigmoid activation function, perfect for binary classification tasks, to output probabilities indicating the likelihood of class membership.\n",
    "\n",
    "### Compilation\n",
    "\n",
    "The model is compiled with the Adam optimizer, a popular choice for deep learning models due to its efficiency and adaptivity. Binary crossentropy is selected as the loss function, fitting for binary classification problems. Model performance is evaluated based on accuracy."
   ]
  },
  {
   "cell_type": "code",
   "execution_count": 46,
   "id": "74a1baa7-84f0-471d-8885-c4cc03b33bf6",
   "metadata": {},
   "outputs": [
    {
     "name": "stderr",
     "output_type": "stream",
     "text": [
      "2024-02-23 04:07:44.897317: I tensorflow/core/util/port.cc:110] oneDNN custom operations are on. You may see slightly different numerical results due to floating-point round-off errors from different computation orders. To turn them off, set the environment variable `TF_ENABLE_ONEDNN_OPTS=0`.\n",
      "2024-02-23 04:07:44.974809: I tensorflow/core/platform/cpu_feature_guard.cc:182] This TensorFlow binary is optimized to use available CPU instructions in performance-critical operations.\n",
      "To enable the following instructions: AVX2 AVX512F AVX512_VNNI FMA, in other operations, rebuild TensorFlow with the appropriate compiler flags.\n"
     ]
    },
    {
     "name": "stdout",
     "output_type": "stream",
     "text": [
      "VOC-NOTICE: GPU memory for this assignment is capped at 1024MiB\n"
     ]
    },
    {
     "name": "stderr",
     "output_type": "stream",
     "text": [
      "2024-02-23 04:07:49.071416: E tensorflow/compiler/xla/stream_executor/cuda/cuda_driver.cc:268] failed call to cuInit: CUDA_ERROR_NO_DEVICE: no CUDA-capable device is detected\n"
     ]
    }
   ],
   "source": [
    "from tensorflow.keras.models import Sequential\n",
    "from tensorflow.keras.layers import Dense\n",
    "from tensorflow.keras.optimizers import Adam\n",
    "\n",
    "# The number of features in the input layer should match the number of input variables\n",
    "input_dim = X_train.shape[1]\n",
    "\n",
    "# Initializing the constructor for the Sequential model\n",
    "model = Sequential()\n",
    "\n",
    "# Adding an input layer with a hidden layer of 10 neurons and using 'relu' activation function\n",
    "model.add(Dense(10, activation='relu', input_shape=(input_dim,)))\n",
    "\n",
    "# Adding a second hidden layer (optional, can be removed for simplicity)\n",
    "model.add(Dense(5, activation='relu'))\n",
    "\n",
    "# Adding the output layer with 'sigmoid' activation function for binary classification\n",
    "model.add(Dense(1, activation='sigmoid'))\n",
    "\n",
    "# Compile the model with the Adam optimizer and binary crossentropy as the loss function\n",
    "model.compile(loss='binary_crossentropy',\n",
    "              optimizer=Adam(learning_rate=0.001),\n",
    "              metrics=['accuracy'])"
   ]
  },
  {
   "cell_type": "markdown",
   "id": "3771b6e6",
   "metadata": {},
   "source": [
    "### Model Summary\n",
    "After defining and compiling our model, we can call model.summary() to display an overview of the model's architecture. This summary includes each layer's type, output shape, and number of parameters, providing a clear and concise visualization of the model structure."
   ]
  },
  {
   "cell_type": "code",
   "execution_count": 47,
   "id": "e3347c83",
   "metadata": {},
   "outputs": [
    {
     "name": "stdout",
     "output_type": "stream",
     "text": [
      "Model: \"sequential\"\n",
      "_________________________________________________________________\n",
      " Layer (type)                Output Shape              Param #   \n",
      "=================================================================\n",
      " dense (Dense)               (None, 10)                200       \n",
      "                                                                 \n",
      " dense_1 (Dense)             (None, 5)                 55        \n",
      "                                                                 \n",
      " dense_2 (Dense)             (None, 1)                 6         \n",
      "                                                                 \n",
      "=================================================================\n",
      "Total params: 261 (1.02 KB)\n",
      "Trainable params: 261 (1.02 KB)\n",
      "Non-trainable params: 0 (0.00 Byte)\n",
      "_________________________________________________________________\n"
     ]
    }
   ],
   "source": [
    "# Summary of the model architecture\n",
    "model.summary()\n"
   ]
  },
  {
   "cell_type": "code",
   "execution_count": null,
   "id": "aa115520-1182-4040-a16a-2b394dcd0f5f",
   "metadata": {},
   "outputs": [],
   "source": []
  }
 ],
 "metadata": {
  "kernelspec": {
   "display_name": "Python 3 [3.10]",
   "language": "python",
   "name": "python3"
  },
  "language_info": {
   "codemirror_mode": {
    "name": "ipython",
    "version": 3
   },
   "file_extension": ".py",
   "mimetype": "text/x-python",
   "name": "python",
   "nbconvert_exporter": "python",
   "pygments_lexer": "ipython3",
   "version": "3.10.2"
  }
 },
 "nbformat": 4,
 "nbformat_minor": 5
}
